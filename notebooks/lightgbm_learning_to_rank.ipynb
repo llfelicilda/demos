{
 "cells": [
  {
   "cell_type": "markdown",
   "metadata": {
    "slideshow": {
     "slide_type": "subslide"
    },
    "tags": []
   },
   "source": [
    "## Implement LambdaMART using `lightgbm`"
   ]
  },
  {
   "cell_type": "code",
   "execution_count": 1,
   "metadata": {},
   "outputs": [
    {
     "name": "stdout",
     "output_type": "stream",
     "text": [
      "test.txt  train.txt vali.txt\n"
     ]
    }
   ],
   "source": [
    "!ls ../data/MSLR-WEB10K/Fold1/"
   ]
  },
  {
   "cell_type": "code",
   "execution_count": 2,
   "metadata": {
    "scrolled": true,
    "slideshow": {
     "slide_type": "subslide"
    },
    "tags": []
   },
   "outputs": [
    {
     "name": "stdout",
     "output_type": "stream",
     "text": [
      "1 qid:29992 1:2 2:1 3:1 4:0 5:2 6:1 7:0.50000 8:0.50000 9:0 10:1 11:1066 12:3 13:11 14:6 15:1086 16:19.036284 17:28.261942 18:27.090498 19:29.47176 20:19.017721 21:43 22:1 23:2 24:0 25:46 26:1 27:0 28:0 29:0 30:1 31:42 32:1 33:2 34:0 35:45 36:21.50000 37:0.50000 38:1 39:0 40:23 41:420.25000 42:0.25000 43:1 44:0 45:484 46:0.040338 47:0.333333 48:0.181818 49:0 50:0.042357 51:0.000938 52:0 53:0 54:0 55:0.000921 56:0.03940 57:0.333333 58:0.181818 59:0 60:0.041436 61:0.020169 62:0.166667 63:0.090909 64:0 65:0.021179 66:0.00037 67:0.027778 68:0.008264 69:0 70:0.00041 71:390.814899 72:12.674474 73:26.489059 74:0 75:417.257951 76:9.968513 77:0 78:0 79:0 80:9.966807 81:380.846387 82:12.674474 83:26.489059 84:0 85:407.291145 86:195.40745 87:6.337237 88:13.244529 89:0 90:208.628976 91:34387.599318 92:40.160576 93:175.417555 94:0 95:39466.657481 96:1 97:0 98:0 99:0 100:1 101:0.692028 102:0.632181 103:0.691352 104:0 105:0.69019 106:38.177038 107:13.909696 108:17.007937 109:0 110:38.287432 111:-11.426342 112:-19.574856 113:-18.558078 114:-21.74817 115:-11.393395 116:-12.318409 117:-24.517658 118:-22.783662 119:-25.095158 120:-12.262422 121:-10.416378 122:-20.42216 123:-19.977896 124:-22.59547 125:-10.384561 126:2 127:30 128:131 129:0 130:13556 131:25675 132:2 133:12 134:0 135:0 136:0 \n"
     ]
    }
   ],
   "source": [
    "!tail -n1 ../data/MSLR-WEB10K/Fold1/train.txt"
   ]
  },
  {
   "cell_type": "code",
   "execution_count": 3,
   "metadata": {},
   "outputs": [],
   "source": [
    "from glob import glob\n",
    "\n",
    "import lightgbm as lgb\n",
    "import numpy as np\n",
    "import pandas as pd\n",
    "from sklearn.metrics import ndcg_score"
   ]
  },
  {
   "cell_type": "code",
   "execution_count": 4,
   "metadata": {},
   "outputs": [],
   "source": [
    "def format_data(type_):\n",
    "    files = glob(\"../data/MSLR-WEB10K/Fold*/{}.txt\".format(type_))\n",
    "    labels = []\n",
    "    features = []\n",
    "    groups = []\n",
    "    grp_cnt = 0\n",
    "    for file in files:\n",
    "        with open(file, \"r\") as fin:\n",
    "            for i, line in enumerate(fin):\n",
    "                label, qid, feats = line.split(\" \", 2)\n",
    "                labels.append(int(label))\n",
    "                qid = int(qid.split(\":\")[-1])\n",
    "                if i == 0:\n",
    "                    last_qid = qid\n",
    "                feats = [float(f.split(\":\")[-1]) for f in feats.strip().split(\" \")]\n",
    "                features.append(feats)\n",
    "                if qid != last_qid:\n",
    "                    last_qid = qid\n",
    "                    groups.append(grp_cnt)\n",
    "                    grp_cnt = 1\n",
    "                else:\n",
    "                    grp_cnt += 1\n",
    "    groups.append(grp_cnt)\n",
    "    return (np.array(features), np.array(labels), np.array(groups))"
   ]
  },
  {
   "cell_type": "code",
   "execution_count": 5,
   "metadata": {
    "scrolled": true,
    "tags": []
   },
   "outputs": [],
   "source": [
    "train_features, train_labels, train_groups = format_data(\"train\")"
   ]
  },
  {
   "cell_type": "code",
   "execution_count": 6,
   "metadata": {},
   "outputs": [
    {
     "data": {
      "text/plain": [
       "(3600576, 3600576, 3600576)"
      ]
     },
     "execution_count": 6,
     "metadata": {},
     "output_type": "execute_result"
    }
   ],
   "source": [
    "len(train_features), len(train_labels), sum(train_groups)"
   ]
  },
  {
   "cell_type": "code",
   "execution_count": 7,
   "metadata": {},
   "outputs": [
    {
     "data": {
      "text/plain": [
       "array([103,  76, 102, ...,  79, 180,  40])"
      ]
     },
     "execution_count": 7,
     "metadata": {},
     "output_type": "execute_result"
    }
   ],
   "source": [
    "train_groups"
   ]
  },
  {
   "cell_type": "code",
   "execution_count": 8,
   "metadata": {},
   "outputs": [],
   "source": [
    "test_features, test_labels, test_groups = format_data(\"test\")"
   ]
  },
  {
   "cell_type": "code",
   "execution_count": 9,
   "metadata": {},
   "outputs": [
    {
     "data": {
      "text/plain": [
       "(1200192, 1200192, 1200192)"
      ]
     },
     "execution_count": 9,
     "metadata": {},
     "output_type": "execute_result"
    }
   ],
   "source": [
    "len(test_features), len(test_labels), sum(test_groups)"
   ]
  },
  {
   "cell_type": "code",
   "execution_count": 10,
   "metadata": {
    "scrolled": true,
    "slideshow": {
     "slide_type": "fragment"
    },
    "tags": []
   },
   "outputs": [],
   "source": [
    "train_data = lgb.Dataset(data=train_features, label=train_labels, group=train_groups)\n",
    "test_data = lgb.Dataset(data=test_features, label=test_labels, group=test_groups)"
   ]
  },
  {
   "cell_type": "code",
   "execution_count": 11,
   "metadata": {},
   "outputs": [],
   "source": [
    "import optuna\n",
    "from optuna.integration import LightGBMPruningCallback"
   ]
  },
  {
   "cell_type": "code",
   "execution_count": 12,
   "metadata": {
    "scrolled": true,
    "tags": []
   },
   "outputs": [
    {
     "name": "stderr",
     "output_type": "stream",
     "text": [
      "\u001b[32m[I 2022-07-27 17:40:22,133]\u001b[0m A new study created in memory with name: LGBM Ranking\u001b[0m\n"
     ]
    },
    {
     "name": "stdout",
     "output_type": "stream",
     "text": [
      "[LightGBM] [Warning] Auto-choosing row-wise multi-threading, the overhead of testing was 0.432408 seconds.\n",
      "You can set `force_row_wise=true` to remove the overhead.\n",
      "And if memory is not enough, you can set `force_col_wise=true`.\n",
      "[LightGBM] [Info] Total Bins 25566\n",
      "[LightGBM] [Info] Number of data points in the train set: 2400384, number of used features: 136\n",
      "[LightGBM] [Warning] Auto-choosing row-wise multi-threading, the overhead of testing was 0.438783 seconds.\n",
      "You can set `force_row_wise=true` to remove the overhead.\n",
      "And if memory is not enough, you can set `force_col_wise=true`.\n",
      "[LightGBM] [Info] Total Bins 25566\n",
      "[LightGBM] [Info] Number of data points in the train set: 2400384, number of used features: 136\n",
      "[LightGBM] [Warning] Auto-choosing row-wise multi-threading, the overhead of testing was 0.453644 seconds.\n",
      "You can set `force_row_wise=true` to remove the overhead.\n",
      "And if memory is not enough, you can set `force_col_wise=true`.\n",
      "[LightGBM] [Info] Total Bins 25566\n",
      "[LightGBM] [Info] Number of data points in the train set: 2400384, number of used features: 136\n",
      "[10]\tcv_agg's ndcg@1: 0.435929 + 0.0049865\tcv_agg's ndcg@5: 0.420043 + 0.00255925\tcv_agg's ndcg@10: 0.436062 + 0.00305421\n",
      "[20]\tcv_agg's ndcg@1: 0.456227 + 0.00200612\tcv_agg's ndcg@5: 0.437426 + 0.00235658\tcv_agg's ndcg@10: 0.456776 + 0.00195107\n",
      "[30]\tcv_agg's ndcg@1: 0.463429 + 0.00164732\tcv_agg's ndcg@5: 0.447475 + 0.00189935\tcv_agg's ndcg@10: 0.46737 + 0.00257516\n",
      "[40]\tcv_agg's ndcg@1: 0.467791 + 0.00236018\tcv_agg's ndcg@5: 0.455283 + 0.00191598\tcv_agg's ndcg@10: 0.473975 + 0.00182525\n",
      "[50]\tcv_agg's ndcg@1: 0.472499 + 0.00210866\tcv_agg's ndcg@5: 0.460666 + 0.00141759\tcv_agg's ndcg@10: 0.478933 + 0.00129517\n",
      "[60]\tcv_agg's ndcg@1: 0.476319 + 0.000212947\tcv_agg's ndcg@5: 0.464634 + 0.00159857\tcv_agg's ndcg@10: 0.482553 + 0.00100736\n",
      "[70]\tcv_agg's ndcg@1: 0.481172 + 0.00124148\tcv_agg's ndcg@5: 0.467899 + 0.0013576\tcv_agg's ndcg@10: 0.48551 + 0.00102142\n",
      "[80]\tcv_agg's ndcg@1: 0.482556 + 0.00202065\tcv_agg's ndcg@5: 0.470686 + 0.00157856\tcv_agg's ndcg@10: 0.488003 + 0.00115301\n",
      "[90]\tcv_agg's ndcg@1: 0.486306 + 0.00127847\tcv_agg's ndcg@5: 0.473321 + 0.00118768\tcv_agg's ndcg@10: 0.490231 + 0.000617699\n"
     ]
    },
    {
     "name": "stderr",
     "output_type": "stream",
     "text": [
      "\u001b[32m[I 2022-07-27 17:41:58,961]\u001b[0m Trial 0 finished with value: 0.4918665254521892 and parameters: {'lambda_l1': 9.242279921881652e-05, 'lambda_l2': 8.990030609011882e-07, 'max_depth': 3, 'num_leaves': 116, 'colsample_bytree': 0.9933168261312348, 'min_data_in_leaf': 50, 'min_sum_hessian_in_leaf': 1.1432209445503182e-08, 'learning_rate': 0.12727093934945977}. Best is trial 0 with value: 0.4918665254521892.\u001b[0m\n"
     ]
    },
    {
     "name": "stdout",
     "output_type": "stream",
     "text": [
      "[100]\tcv_agg's ndcg@1: 0.487506 + 0.00156281\tcv_agg's ndcg@5: 0.47514 + 0.00132978\tcv_agg's ndcg@10: 0.492069 + 0.000813218\n",
      "[LightGBM] [Warning] Auto-choosing row-wise multi-threading, the overhead of testing was 0.410913 seconds.\n",
      "You can set `force_row_wise=true` to remove the overhead.\n",
      "And if memory is not enough, you can set `force_col_wise=true`.\n",
      "[LightGBM] [Info] Total Bins 25566\n",
      "[LightGBM] [Info] Number of data points in the train set: 2400384, number of used features: 136\n",
      "[LightGBM] [Warning] Auto-choosing row-wise multi-threading, the overhead of testing was 0.428056 seconds.\n",
      "You can set `force_row_wise=true` to remove the overhead.\n",
      "And if memory is not enough, you can set `force_col_wise=true`.\n",
      "[LightGBM] [Info] Total Bins 25566\n",
      "[LightGBM] [Info] Number of data points in the train set: 2400384, number of used features: 136\n",
      "[LightGBM] [Warning] Auto-choosing row-wise multi-threading, the overhead of testing was 0.419857 seconds.\n",
      "You can set `force_row_wise=true` to remove the overhead.\n",
      "And if memory is not enough, you can set `force_col_wise=true`.\n",
      "[LightGBM] [Info] Total Bins 25566\n",
      "[LightGBM] [Info] Number of data points in the train set: 2400384, number of used features: 136\n",
      "[10]\tcv_agg's ndcg@1: 0.488324 + 0.00059368\tcv_agg's ndcg@5: 0.472717 + 0.00166551\tcv_agg's ndcg@10: 0.488881 + 0.00199002\n",
      "[20]\tcv_agg's ndcg@1: 0.515201 + 0.00151899\tcv_agg's ndcg@5: 0.493986 + 0.00106104\tcv_agg's ndcg@10: 0.508884 + 0.00124528\n",
      "[30]\tcv_agg's ndcg@1: 0.528943 + 0.00189857\tcv_agg's ndcg@5: 0.506212 + 0.00155483\tcv_agg's ndcg@10: 0.519601 + 0.00140652\n",
      "[40]\tcv_agg's ndcg@1: 0.541725 + 0.00216422\tcv_agg's ndcg@5: 0.5152 + 0.00164211\tcv_agg's ndcg@10: 0.527783 + 0.00154654\n",
      "[50]\tcv_agg's ndcg@1: 0.553101 + 0.00193022\tcv_agg's ndcg@5: 0.522421 + 0.00149973\tcv_agg's ndcg@10: 0.533835 + 0.00157742\n",
      "[60]\tcv_agg's ndcg@1: 0.561867 + 0.00167871\tcv_agg's ndcg@5: 0.528412 + 0.00182197\tcv_agg's ndcg@10: 0.539206 + 0.00149694\n",
      "[70]\tcv_agg's ndcg@1: 0.568947 + 0.00297749\tcv_agg's ndcg@5: 0.533389 + 0.00165655\tcv_agg's ndcg@10: 0.5437 + 0.00131115\n",
      "[80]\tcv_agg's ndcg@1: 0.576668 + 0.00380262\tcv_agg's ndcg@5: 0.538694 + 0.00174629\tcv_agg's ndcg@10: 0.548214 + 0.00161654\n",
      "[90]\tcv_agg's ndcg@1: 0.584146 + 0.00400257\tcv_agg's ndcg@5: 0.543963 + 0.001609\tcv_agg's ndcg@10: 0.552223 + 0.00138441\n"
     ]
    },
    {
     "name": "stderr",
     "output_type": "stream",
     "text": [
      "\u001b[32m[I 2022-07-27 17:44:01,992]\u001b[0m Trial 1 finished with value: 0.5559764500341148 and parameters: {'lambda_l1': 3.3086090474282157e-06, 'lambda_l2': 0.0012514954463073416, 'max_depth': 8, 'num_leaves': 60, 'colsample_bytree': 0.9081227135632017, 'min_data_in_leaf': 23, 'min_sum_hessian_in_leaf': 1.9175765067602226e-08, 'learning_rate': 0.19184245195083788}. Best is trial 1 with value: 0.5559764500341148.\u001b[0m\n"
     ]
    },
    {
     "name": "stdout",
     "output_type": "stream",
     "text": [
      "[100]\tcv_agg's ndcg@1: 0.590232 + 0.00366504\tcv_agg's ndcg@5: 0.547745 + 0.00157108\tcv_agg's ndcg@10: 0.555976 + 0.00146979\n",
      "[LightGBM] [Warning] Auto-choosing row-wise multi-threading, the overhead of testing was 0.288587 seconds.\n",
      "You can set `force_row_wise=true` to remove the overhead.\n",
      "And if memory is not enough, you can set `force_col_wise=true`.\n",
      "[LightGBM] [Info] Total Bins 25566\n",
      "[LightGBM] [Info] Number of data points in the train set: 2400384, number of used features: 136\n",
      "[LightGBM] [Warning] Auto-choosing row-wise multi-threading, the overhead of testing was 0.284615 seconds.\n",
      "You can set `force_row_wise=true` to remove the overhead.\n",
      "And if memory is not enough, you can set `force_col_wise=true`.\n",
      "[LightGBM] [Info] Total Bins 25566\n",
      "[LightGBM] [Info] Number of data points in the train set: 2400384, number of used features: 136\n",
      "[LightGBM] [Warning] Auto-choosing row-wise multi-threading, the overhead of testing was 0.281582 seconds.\n",
      "You can set `force_row_wise=true` to remove the overhead.\n",
      "And if memory is not enough, you can set `force_col_wise=true`.\n",
      "[LightGBM] [Info] Total Bins 25566\n",
      "[LightGBM] [Info] Number of data points in the train set: 2400384, number of used features: 136\n",
      "[LightGBM] [Warning] No further splits with positive gain, best gain: -inf\n",
      "[LightGBM] [Warning] No further splits with positive gain, best gain: -inf\n",
      "[10]\tcv_agg's ndcg@1: 0.472873 + 0.00115681\tcv_agg's ndcg@5: 0.459403 + 0.00130689\tcv_agg's ndcg@10: 0.47567 + 0.000947993\n",
      "[LightGBM] [Warning] No further splits with positive gain, best gain: -inf\n",
      "[LightGBM] [Warning] No further splits with positive gain, best gain: -inf\n",
      "[LightGBM] [Warning] No further splits with positive gain, best gain: -inf\n",
      "[LightGBM] [Warning] No further splits with positive gain, best gain: -inf\n",
      "[LightGBM] [Warning] No further splits with positive gain, best gain: -inf\n",
      "[20]\tcv_agg's ndcg@1: 0.492172 + 0.00416007\tcv_agg's ndcg@5: 0.47911 + 0.00203575\tcv_agg's ndcg@10: 0.494936 + 0.00228182\n",
      "[LightGBM] [Warning] No further splits with positive gain, best gain: -inf\n",
      "[LightGBM] [Warning] No further splits with positive gain, best gain: -inf\n",
      "[LightGBM] [Warning] No further splits with positive gain, best gain: -inf\n",
      "[LightGBM] [Warning] No further splits with positive gain, best gain: -inf\n",
      "[LightGBM] [Warning] No further splits with positive gain, best gain: -inf\n",
      "[LightGBM] [Warning] No further splits with positive gain, best gain: -inf\n",
      "[LightGBM] [Warning] No further splits with positive gain, best gain: -inf\n",
      "[LightGBM] [Warning] No further splits with positive gain, best gain: -inf\n",
      "[LightGBM] [Warning] No further splits with positive gain, best gain: -inf\n",
      "[LightGBM] [Warning] No further splits with positive gain, best gain: -inf\n",
      "[LightGBM] [Warning] No further splits with positive gain, best gain: -inf\n",
      "[LightGBM] [Warning] No further splits with positive gain, best gain: -inf\n",
      "[30]\tcv_agg's ndcg@1: 0.503783 + 0.00240881\tcv_agg's ndcg@5: 0.489407 + 0.00153531\tcv_agg's ndcg@10: 0.503445 + 0.00142355\n",
      "[LightGBM] [Warning] No further splits with positive gain, best gain: -inf\n",
      "[LightGBM] [Warning] No further splits with positive gain, best gain: -inf\n",
      "[LightGBM] [Warning] No further splits with positive gain, best gain: -inf\n",
      "[LightGBM] [Warning] No further splits with positive gain, best gain: -inf\n",
      "[LightGBM] [Warning] No further splits with positive gain, best gain: -inf\n",
      "[LightGBM] [Warning] No further splits with positive gain, best gain: -inf\n",
      "[LightGBM] [Warning] No further splits with positive gain, best gain: -inf\n",
      "[LightGBM] [Warning] No further splits with positive gain, best gain: -inf\n",
      "[LightGBM] [Warning] No further splits with positive gain, best gain: -inf\n",
      "[LightGBM] [Warning] No further splits with positive gain, best gain: -inf\n",
      "[LightGBM] [Warning] No further splits with positive gain, best gain: -inf\n",
      "[40]\tcv_agg's ndcg@1: 0.510577 + 0.00131055\tcv_agg's ndcg@5: 0.495474 + 0.000244242\tcv_agg's ndcg@10: 0.50941 + 0.000770602\n",
      "[LightGBM] [Warning] No further splits with positive gain, best gain: -inf\n",
      "[LightGBM] [Warning] No further splits with positive gain, best gain: -inf\n",
      "[LightGBM] [Warning] No further splits with positive gain, best gain: -inf\n",
      "[LightGBM] [Warning] No further splits with positive gain, best gain: -inf\n",
      "[LightGBM] [Warning] No further splits with positive gain, best gain: -inf\n",
      "[LightGBM] [Warning] No further splits with positive gain, best gain: -inf\n",
      "[LightGBM] [Warning] No further splits with positive gain, best gain: -inf\n",
      "[LightGBM] [Warning] No further splits with positive gain, best gain: -inf\n",
      "[LightGBM] [Warning] No further splits with positive gain, best gain: -inf\n",
      "[LightGBM] [Warning] No further splits with positive gain, best gain: -inf\n",
      "[50]\tcv_agg's ndcg@1: 0.51976 + 0.00276618\tcv_agg's ndcg@5: 0.500828 + 0.00015045\tcv_agg's ndcg@10: 0.514804 + 0.00113074\n",
      "[LightGBM] [Warning] No further splits with positive gain, best gain: -inf\n",
      "[LightGBM] [Warning] No further splits with positive gain, best gain: -inf\n",
      "[LightGBM] [Warning] No further splits with positive gain, best gain: -inf\n",
      "[LightGBM] [Warning] No further splits with positive gain, best gain: -inf\n",
      "[LightGBM] [Warning] No further splits with positive gain, best gain: -inf\n",
      "[LightGBM] [Warning] No further splits with positive gain, best gain: -inf\n",
      "[LightGBM] [Warning] No further splits with positive gain, best gain: -inf\n",
      "[LightGBM] [Warning] No further splits with positive gain, best gain: -inf\n",
      "[LightGBM] [Warning] No further splits with positive gain, best gain: -inf\n",
      "[LightGBM] [Warning] No further splits with positive gain, best gain: -inf\n",
      "[LightGBM] [Warning] No further splits with positive gain, best gain: -inf\n",
      "[LightGBM] [Warning] No further splits with positive gain, best gain: -inf\n",
      "[LightGBM] [Warning] No further splits with positive gain, best gain: -inf\n",
      "[LightGBM] [Warning] No further splits with positive gain, best gain: -inf\n",
      "[LightGBM] [Warning] No further splits with positive gain, best gain: -inf\n",
      "[LightGBM] [Warning] No further splits with positive gain, best gain: -inf\n",
      "[60]\tcv_agg's ndcg@1: 0.52427 + 0.00258131\tcv_agg's ndcg@5: 0.505056 + 0.000506447\tcv_agg's ndcg@10: 0.518773 + 0.00117124\n",
      "[LightGBM] [Warning] No further splits with positive gain, best gain: -inf\n",
      "[LightGBM] [Warning] No further splits with positive gain, best gain: -inf\n",
      "[LightGBM] [Warning] No further splits with positive gain, best gain: -inf\n",
      "[LightGBM] [Warning] No further splits with positive gain, best gain: -inf\n",
      "[LightGBM] [Warning] No further splits with positive gain, best gain: -inf\n",
      "[LightGBM] [Warning] No further splits with positive gain, best gain: -inf\n",
      "[LightGBM] [Warning] No further splits with positive gain, best gain: -inf\n",
      "[LightGBM] [Warning] No further splits with positive gain, best gain: -inf\n",
      "[LightGBM] [Warning] No further splits with positive gain, best gain: -inf\n",
      "[LightGBM] [Warning] No further splits with positive gain, best gain: -inf\n",
      "[LightGBM] [Warning] No further splits with positive gain, best gain: -inf\n",
      "[LightGBM] [Warning] No further splits with positive gain, best gain: -inf\n",
      "[LightGBM] [Warning] No further splits with positive gain, best gain: -inf\n",
      "[LightGBM] [Warning] No further splits with positive gain, best gain: -inf\n",
      "[LightGBM] [Warning] No further splits with positive gain, best gain: -inf\n",
      "[LightGBM] [Warning] No further splits with positive gain, best gain: -inf\n",
      "[LightGBM] [Warning] No further splits with positive gain, best gain: -inf\n",
      "[LightGBM] [Warning] No further splits with positive gain, best gain: -inf\n",
      "[LightGBM] [Warning] No further splits with positive gain, best gain: -inf\n",
      "[LightGBM] [Warning] No further splits with positive gain, best gain: -inf\n",
      "[LightGBM] [Warning] No further splits with positive gain, best gain: -inf\n",
      "[LightGBM] [Warning] No further splits with positive gain, best gain: -inf\n",
      "[LightGBM] [Warning] No further splits with positive gain, best gain: -inf\n",
      "[70]\tcv_agg's ndcg@1: 0.529084 + 0.00338298\tcv_agg's ndcg@5: 0.508483 + 0.000334445\tcv_agg's ndcg@10: 0.521985 + 0.000833357\n",
      "[LightGBM] [Warning] No further splits with positive gain, best gain: -inf\n",
      "[LightGBM] [Warning] No further splits with positive gain, best gain: -inf\n",
      "[LightGBM] [Warning] No further splits with positive gain, best gain: -inf\n",
      "[LightGBM] [Warning] No further splits with positive gain, best gain: -inf\n",
      "[LightGBM] [Warning] No further splits with positive gain, best gain: -inf\n",
      "[LightGBM] [Warning] No further splits with positive gain, best gain: -inf\n",
      "[LightGBM] [Warning] No further splits with positive gain, best gain: -inf\n",
      "[LightGBM] [Warning] No further splits with positive gain, best gain: -inf\n",
      "[LightGBM] [Warning] No further splits with positive gain, best gain: -inf\n",
      "[LightGBM] [Warning] No further splits with positive gain, best gain: -inf\n",
      "[LightGBM] [Warning] No further splits with positive gain, best gain: -inf\n",
      "[LightGBM] [Warning] No further splits with positive gain, best gain: -inf\n",
      "[LightGBM] [Warning] No further splits with positive gain, best gain: -inf\n",
      "[LightGBM] [Warning] No further splits with positive gain, best gain: -inf\n",
      "[LightGBM] [Warning] No further splits with positive gain, best gain: -inf\n",
      "[LightGBM] [Warning] No further splits with positive gain, best gain: -inf\n",
      "[LightGBM] [Warning] No further splits with positive gain, best gain: -inf\n",
      "[LightGBM] [Warning] No further splits with positive gain, best gain: -inf\n",
      "[LightGBM] [Warning] No further splits with positive gain, best gain: -inf\n",
      "[LightGBM] [Warning] No further splits with positive gain, best gain: -inf\n",
      "[LightGBM] [Warning] No further splits with positive gain, best gain: -inf\n",
      "[LightGBM] [Warning] No further splits with positive gain, best gain: -inf\n",
      "[LightGBM] [Warning] No further splits with positive gain, best gain: -inf\n",
      "[LightGBM] [Warning] No further splits with positive gain, best gain: -inf\n",
      "[LightGBM] [Warning] No further splits with positive gain, best gain: -inf\n",
      "[80]\tcv_agg's ndcg@1: 0.533843 + 0.00229714\tcv_agg's ndcg@5: 0.511486 + 0.000157305\tcv_agg's ndcg@10: 0.524642 + 0.00126274\n",
      "[LightGBM] [Warning] No further splits with positive gain, best gain: -inf\n",
      "[LightGBM] [Warning] No further splits with positive gain, best gain: -inf\n",
      "[LightGBM] [Warning] No further splits with positive gain, best gain: -inf\n",
      "[LightGBM] [Warning] No further splits with positive gain, best gain: -inf\n",
      "[LightGBM] [Warning] No further splits with positive gain, best gain: -inf\n",
      "[LightGBM] [Warning] No further splits with positive gain, best gain: -inf\n",
      "[LightGBM] [Warning] No further splits with positive gain, best gain: -inf\n",
      "[LightGBM] [Warning] No further splits with positive gain, best gain: -inf\n",
      "[LightGBM] [Warning] No further splits with positive gain, best gain: -inf\n",
      "[LightGBM] [Warning] No further splits with positive gain, best gain: -inf\n",
      "[LightGBM] [Warning] No further splits with positive gain, best gain: -inf\n",
      "[LightGBM] [Warning] No further splits with positive gain, best gain: -inf\n",
      "[LightGBM] [Warning] No further splits with positive gain, best gain: -inf\n",
      "[LightGBM] [Warning] No further splits with positive gain, best gain: -inf\n",
      "[LightGBM] [Warning] No further splits with positive gain, best gain: -inf\n",
      "[LightGBM] [Warning] No further splits with positive gain, best gain: -inf\n",
      "[LightGBM] [Warning] No further splits with positive gain, best gain: -inf\n",
      "[LightGBM] [Warning] No further splits with positive gain, best gain: -inf\n",
      "[LightGBM] [Warning] No further splits with positive gain, best gain: -inf\n",
      "[LightGBM] [Warning] No further splits with positive gain, best gain: -inf\n",
      "[LightGBM] [Warning] No further splits with positive gain, best gain: -inf\n",
      "[LightGBM] [Warning] No further splits with positive gain, best gain: -inf\n",
      "[LightGBM] [Warning] No further splits with positive gain, best gain: -inf\n",
      "[LightGBM] [Warning] No further splits with positive gain, best gain: -inf\n",
      "[LightGBM] [Warning] No further splits with positive gain, best gain: -inf\n",
      "[90]\tcv_agg's ndcg@1: 0.538245 + 0.00103878\tcv_agg's ndcg@5: 0.514177 + 0.000925587\tcv_agg's ndcg@10: 0.527187 + 0.00196906\n",
      "[LightGBM] [Warning] No further splits with positive gain, best gain: -inf\n",
      "[LightGBM] [Warning] No further splits with positive gain, best gain: -inf\n",
      "[LightGBM] [Warning] No further splits with positive gain, best gain: -inf\n",
      "[LightGBM] [Warning] No further splits with positive gain, best gain: -inf\n",
      "[LightGBM] [Warning] No further splits with positive gain, best gain: -inf\n",
      "[LightGBM] [Warning] No further splits with positive gain, best gain: -inf\n",
      "[LightGBM] [Warning] No further splits with positive gain, best gain: -inf\n",
      "[LightGBM] [Warning] No further splits with positive gain, best gain: -inf\n",
      "[LightGBM] [Warning] No further splits with positive gain, best gain: -inf\n",
      "[LightGBM] [Warning] No further splits with positive gain, best gain: -inf\n",
      "[LightGBM] [Warning] No further splits with positive gain, best gain: -inf\n",
      "[LightGBM] [Warning] No further splits with positive gain, best gain: -inf\n",
      "[LightGBM] [Warning] No further splits with positive gain, best gain: -inf\n",
      "[LightGBM] [Warning] No further splits with positive gain, best gain: -inf\n",
      "[LightGBM] [Warning] No further splits with positive gain, best gain: -inf\n",
      "[LightGBM] [Warning] No further splits with positive gain, best gain: -inf\n",
      "[LightGBM] [Warning] No further splits with positive gain, best gain: -inf\n",
      "[LightGBM] [Warning] No further splits with positive gain, best gain: -inf\n",
      "[LightGBM] [Warning] No further splits with positive gain, best gain: -inf\n",
      "[LightGBM] [Warning] No further splits with positive gain, best gain: -inf\n",
      "[LightGBM] [Warning] No further splits with positive gain, best gain: -inf\n",
      "[LightGBM] [Warning] No further splits with positive gain, best gain: -inf\n",
      "[LightGBM] [Warning] No further splits with positive gain, best gain: -inf\n",
      "[LightGBM] [Warning] No further splits with positive gain, best gain: -inf\n",
      "[100]\tcv_agg's ndcg@1: 0.544015 + 0.00198408\tcv_agg's ndcg@5: 0.517981 + 0.000634108\tcv_agg's ndcg@10: 0.529888 + 0.00205853\n"
     ]
    },
    {
     "name": "stderr",
     "output_type": "stream",
     "text": [
      "\u001b[32m[I 2022-07-27 17:46:06,665]\u001b[0m Trial 2 finished with value: 0.5298875255820453 and parameters: {'lambda_l1': 3.4017903262411844e-07, 'lambda_l2': 1.5910388785227304e-05, 'max_depth': 5, 'num_leaves': 92, 'colsample_bytree': 0.31115856510796, 'min_data_in_leaf': 48, 'min_sum_hessian_in_leaf': 8.209419003059314e-08, 'learning_rate': 0.2812414978041621}. Best is trial 1 with value: 0.5559764500341148.\u001b[0m\n"
     ]
    },
    {
     "name": "stdout",
     "output_type": "stream",
     "text": [
      "[LightGBM] [Warning] Auto-choosing row-wise multi-threading, the overhead of testing was 0.433641 seconds.\n",
      "You can set `force_row_wise=true` to remove the overhead.\n",
      "And if memory is not enough, you can set `force_col_wise=true`.\n",
      "[LightGBM] [Info] Total Bins 25566\n",
      "[LightGBM] [Info] Number of data points in the train set: 2400384, number of used features: 136\n",
      "[LightGBM] [Warning] Auto-choosing row-wise multi-threading, the overhead of testing was 0.421466 seconds.\n",
      "You can set `force_row_wise=true` to remove the overhead.\n",
      "And if memory is not enough, you can set `force_col_wise=true`.\n",
      "[LightGBM] [Info] Total Bins 25566\n",
      "[LightGBM] [Info] Number of data points in the train set: 2400384, number of used features: 136\n",
      "[LightGBM] [Warning] Auto-choosing row-wise multi-threading, the overhead of testing was 0.436913 seconds.\n",
      "You can set `force_row_wise=true` to remove the overhead.\n",
      "And if memory is not enough, you can set `force_col_wise=true`.\n",
      "[LightGBM] [Info] Total Bins 25566\n",
      "[LightGBM] [Info] Number of data points in the train set: 2400384, number of used features: 136\n",
      "[10]\tcv_agg's ndcg@1: 0.461497 + 0.000865682\tcv_agg's ndcg@5: 0.446857 + 0.00201199\tcv_agg's ndcg@10: 0.46558 + 0.00191351\n",
      "[20]\tcv_agg's ndcg@1: 0.480714 + 0.00137837\tcv_agg's ndcg@5: 0.468175 + 0.00274396\tcv_agg's ndcg@10: 0.485373 + 0.00244669\n",
      "[30]\tcv_agg's ndcg@1: 0.490804 + 0.00356433\tcv_agg's ndcg@5: 0.478994 + 0.00265024\tcv_agg's ndcg@10: 0.494388 + 0.00216795\n",
      "[LightGBM] [Warning] No further splits with positive gain, best gain: -inf\n",
      "[LightGBM] [Warning] No further splits with positive gain, best gain: -inf\n",
      "[LightGBM] [Warning] No further splits with positive gain, best gain: -inf\n",
      "[40]\tcv_agg's ndcg@1: 0.497483 + 0.00314579\tcv_agg's ndcg@5: 0.484995 + 0.00286262\tcv_agg's ndcg@10: 0.500458 + 0.00222744\n",
      "[LightGBM] [Warning] No further splits with positive gain, best gain: -inf\n",
      "[LightGBM] [Warning] No further splits with positive gain, best gain: -inf\n",
      "[LightGBM] [Warning] No further splits with positive gain, best gain: -inf\n",
      "[LightGBM] [Warning] No further splits with positive gain, best gain: -inf\n",
      "[LightGBM] [Warning] No further splits with positive gain, best gain: -inf\n",
      "[LightGBM] [Warning] No further splits with positive gain, best gain: -inf\n",
      "[50]\tcv_agg's ndcg@1: 0.501486 + 0.00199735\tcv_agg's ndcg@5: 0.489113 + 0.00238305\tcv_agg's ndcg@10: 0.503879 + 0.00206393\n",
      "[LightGBM] [Warning] No further splits with positive gain, best gain: -inf\n",
      "[LightGBM] [Warning] No further splits with positive gain, best gain: -inf\n",
      "[LightGBM] [Warning] No further splits with positive gain, best gain: -inf\n",
      "[LightGBM] [Warning] No further splits with positive gain, best gain: -inf\n",
      "[LightGBM] [Warning] No further splits with positive gain, best gain: -inf\n",
      "[LightGBM] [Warning] No further splits with positive gain, best gain: -inf\n",
      "[LightGBM] [Warning] No further splits with positive gain, best gain: -inf\n",
      "[60]\tcv_agg's ndcg@1: 0.507216 + 0.00103169\tcv_agg's ndcg@5: 0.492625 + 0.00142821\tcv_agg's ndcg@10: 0.507327 + 0.00132941\n",
      "[LightGBM] [Warning] No further splits with positive gain, best gain: -inf\n",
      "[LightGBM] [Warning] No further splits with positive gain, best gain: -inf\n",
      "[LightGBM] [Warning] No further splits with positive gain, best gain: -inf\n",
      "[LightGBM] [Warning] No further splits with positive gain, best gain: -inf\n",
      "[LightGBM] [Warning] No further splits with positive gain, best gain: -inf\n",
      "[LightGBM] [Warning] No further splits with positive gain, best gain: -inf\n",
      "[LightGBM] [Warning] No further splits with positive gain, best gain: -inf\n",
      "[70]\tcv_agg's ndcg@1: 0.512382 + 0.00125862\tcv_agg's ndcg@5: 0.495722 + 0.00188665\tcv_agg's ndcg@10: 0.509999 + 0.00154107\n",
      "[LightGBM] [Warning] No further splits with positive gain, best gain: -inf\n",
      "[LightGBM] [Warning] No further splits with positive gain, best gain: -inf\n",
      "[LightGBM] [Warning] No further splits with positive gain, best gain: -inf\n",
      "[LightGBM] [Warning] No further splits with positive gain, best gain: -inf\n",
      "[LightGBM] [Warning] No further splits with positive gain, best gain: -inf\n",
      "[LightGBM] [Warning] No further splits with positive gain, best gain: -inf\n",
      "[LightGBM] [Warning] No further splits with positive gain, best gain: -inf\n",
      "[LightGBM] [Warning] No further splits with positive gain, best gain: -inf\n",
      "[LightGBM] [Warning] No further splits with positive gain, best gain: -inf\n",
      "[LightGBM] [Warning] No further splits with positive gain, best gain: -inf\n",
      "[LightGBM] [Warning] No further splits with positive gain, best gain: -inf\n",
      "[LightGBM] [Warning] No further splits with positive gain, best gain: -inf\n",
      "[LightGBM] [Warning] No further splits with positive gain, best gain: -inf\n",
      "[LightGBM] [Warning] No further splits with positive gain, best gain: -inf\n",
      "[LightGBM] [Warning] No further splits with positive gain, best gain: -inf\n",
      "[80]\tcv_agg's ndcg@1: 0.515078 + 0.00175974\tcv_agg's ndcg@5: 0.498021 + 0.00143428\tcv_agg's ndcg@10: 0.512203 + 0.001376\n",
      "[LightGBM] [Warning] No further splits with positive gain, best gain: -inf\n",
      "[LightGBM] [Warning] No further splits with positive gain, best gain: -inf\n",
      "[LightGBM] [Warning] No further splits with positive gain, best gain: -inf\n",
      "[LightGBM] [Warning] No further splits with positive gain, best gain: -inf\n",
      "[LightGBM] [Warning] No further splits with positive gain, best gain: -inf\n",
      "[LightGBM] [Warning] No further splits with positive gain, best gain: -inf\n",
      "[LightGBM] [Warning] No further splits with positive gain, best gain: -inf\n",
      "[LightGBM] [Warning] No further splits with positive gain, best gain: -inf\n",
      "[LightGBM] [Warning] No further splits with positive gain, best gain: -inf\n",
      "[LightGBM] [Warning] No further splits with positive gain, best gain: -inf\n",
      "[LightGBM] [Warning] No further splits with positive gain, best gain: -inf\n",
      "[90]\tcv_agg's ndcg@1: 0.518033 + 0.000575632\tcv_agg's ndcg@5: 0.500122 + 0.00116273\tcv_agg's ndcg@10: 0.51438 + 0.00139664\n",
      "[LightGBM] [Warning] No further splits with positive gain, best gain: -inf\n",
      "[LightGBM] [Warning] No further splits with positive gain, best gain: -inf\n",
      "[LightGBM] [Warning] No further splits with positive gain, best gain: -inf\n",
      "[LightGBM] [Warning] No further splits with positive gain, best gain: -inf\n",
      "[LightGBM] [Warning] No further splits with positive gain, best gain: -inf\n",
      "[LightGBM] [Warning] No further splits with positive gain, best gain: -inf\n",
      "[LightGBM] [Warning] No further splits with positive gain, best gain: -inf\n",
      "[LightGBM] [Warning] No further splits with positive gain, best gain: -inf\n",
      "[LightGBM] [Warning] No further splits with positive gain, best gain: -inf\n",
      "[LightGBM] [Warning] No further splits with positive gain, best gain: -inf\n"
     ]
    },
    {
     "name": "stderr",
     "output_type": "stream",
     "text": [
      "\u001b[32m[I 2022-07-27 17:47:40,934]\u001b[0m Trial 3 finished with value: 0.5164140423288628 and parameters: {'lambda_l1': 0.07328027219500806, 'lambda_l2': 5.9021869473089795e-05, 'max_depth': 4, 'num_leaves': 23, 'colsample_bytree': 0.9941364862172039, 'min_data_in_leaf': 73, 'min_sum_hessian_in_leaf': 0.0006470352505149061, 'learning_rate': 0.24497698537726156}. Best is trial 1 with value: 0.5559764500341148.\u001b[0m\n"
     ]
    },
    {
     "name": "stdout",
     "output_type": "stream",
     "text": [
      "[LightGBM] [Warning] No further splits with positive gain, best gain: -inf\n",
      "[100]\tcv_agg's ndcg@1: 0.521445 + 0.000671233\tcv_agg's ndcg@5: 0.502367 + 0.001405\tcv_agg's ndcg@10: 0.516414 + 0.00132609\n",
      "[LightGBM] [Warning] Auto-choosing row-wise multi-threading, the overhead of testing was 0.310360 seconds.\n",
      "You can set `force_row_wise=true` to remove the overhead.\n",
      "And if memory is not enough, you can set `force_col_wise=true`.\n",
      "[LightGBM] [Info] Total Bins 25566\n",
      "[LightGBM] [Info] Number of data points in the train set: 2400384, number of used features: 136\n",
      "[LightGBM] [Warning] Auto-choosing row-wise multi-threading, the overhead of testing was 0.313222 seconds.\n",
      "You can set `force_row_wise=true` to remove the overhead.\n",
      "And if memory is not enough, you can set `force_col_wise=true`.\n",
      "[LightGBM] [Info] Total Bins 25566\n",
      "[LightGBM] [Info] Number of data points in the train set: 2400384, number of used features: 136\n",
      "[LightGBM] [Warning] Auto-choosing row-wise multi-threading, the overhead of testing was 0.324354 seconds.\n",
      "You can set `force_row_wise=true` to remove the overhead.\n",
      "And if memory is not enough, you can set `force_col_wise=true`.\n",
      "[LightGBM] [Info] Total Bins 25566\n",
      "[LightGBM] [Info] Number of data points in the train set: 2400384, number of used features: 136\n",
      "[10]\tcv_agg's ndcg@1: 0.504964 + 0.00457768\tcv_agg's ndcg@5: 0.487492 + 0.00270949\tcv_agg's ndcg@10: 0.501149 + 0.00324907\n",
      "[20]\tcv_agg's ndcg@1: 0.536333 + 0.00339495\tcv_agg's ndcg@5: 0.510729 + 0.00181491\tcv_agg's ndcg@10: 0.522981 + 0.00208199\n",
      "[30]\tcv_agg's ndcg@1: 0.557101 + 0.00250605\tcv_agg's ndcg@5: 0.525384 + 0.00209935\tcv_agg's ndcg@10: 0.536505 + 0.00275892\n",
      "[40]\tcv_agg's ndcg@1: 0.569972 + 0.00319684\tcv_agg's ndcg@5: 0.535096 + 0.00263707\tcv_agg's ndcg@10: 0.545129 + 0.00255178\n",
      "[LightGBM] [Warning] No further splits with positive gain, best gain: -inf\n",
      "[LightGBM] [Warning] No further splits with positive gain, best gain: -inf\n",
      "[LightGBM] [Warning] No further splits with positive gain, best gain: -inf\n",
      "[50]\tcv_agg's ndcg@1: 0.585 + 0.00371973\tcv_agg's ndcg@5: 0.545217 + 0.00225697\tcv_agg's ndcg@10: 0.553345 + 0.00163193\n",
      "[LightGBM] [Warning] No further splits with positive gain, best gain: -inf\n",
      "[LightGBM] [Warning] No further splits with positive gain, best gain: -inf\n",
      "[LightGBM] [Warning] No further splits with positive gain, best gain: -inf\n",
      "[LightGBM] [Warning] No further splits with positive gain, best gain: -inf\n",
      "[LightGBM] [Warning] No further splits with positive gain, best gain: -inf\n",
      "[LightGBM] [Warning] No further splits with positive gain, best gain: -inf\n",
      "[LightGBM] [Warning] No further splits with positive gain, best gain: -inf\n",
      "[LightGBM] [Warning] No further splits with positive gain, best gain: -inf\n",
      "[LightGBM] [Warning] No further splits with positive gain, best gain: -inf\n",
      "[LightGBM] [Warning] No further splits with positive gain, best gain: -inf\n",
      "[LightGBM] [Warning] No further splits with positive gain, best gain: -inf\n",
      "[LightGBM] [Warning] No further splits with positive gain, best gain: -inf\n",
      "[60]\tcv_agg's ndcg@1: 0.596047 + 0.0024694\tcv_agg's ndcg@5: 0.55317 + 0.00289934\tcv_agg's ndcg@10: 0.559625 + 0.00279713\n",
      "[LightGBM] [Warning] No further splits with positive gain, best gain: -inf\n",
      "[LightGBM] [Warning] No further splits with positive gain, best gain: -inf\n",
      "[LightGBM] [Warning] No further splits with positive gain, best gain: -inf\n",
      "[LightGBM] [Warning] No further splits with positive gain, best gain: -inf\n",
      "[LightGBM] [Warning] No further splits with positive gain, best gain: -inf\n",
      "[LightGBM] [Warning] No further splits with positive gain, best gain: -inf\n",
      "[LightGBM] [Warning] No further splits with positive gain, best gain: -inf\n",
      "[70]\tcv_agg's ndcg@1: 0.606772 + 0.00328519\tcv_agg's ndcg@5: 0.560495 + 0.00261905\tcv_agg's ndcg@10: 0.566209 + 0.00272612\n",
      "[LightGBM] [Warning] No further splits with positive gain, best gain: -inf\n",
      "[LightGBM] [Warning] No further splits with positive gain, best gain: -inf\n",
      "[LightGBM] [Warning] No further splits with positive gain, best gain: -inf\n",
      "[LightGBM] [Warning] No further splits with positive gain, best gain: -inf\n",
      "[LightGBM] [Warning] No further splits with positive gain, best gain: -inf\n",
      "[LightGBM] [Warning] No further splits with positive gain, best gain: -inf\n",
      "[LightGBM] [Warning] No further splits with positive gain, best gain: -inf\n",
      "[LightGBM] [Warning] No further splits with positive gain, best gain: -inf\n",
      "[80]\tcv_agg's ndcg@1: 0.61673 + 0.000832366\tcv_agg's ndcg@5: 0.567153 + 0.00230467\tcv_agg's ndcg@10: 0.571593 + 0.00252987\n",
      "[LightGBM] [Warning] No further splits with positive gain, best gain: -inf\n",
      "[LightGBM] [Warning] No further splits with positive gain, best gain: -inf\n",
      "[LightGBM] [Warning] No further splits with positive gain, best gain: -inf\n",
      "[LightGBM] [Warning] No further splits with positive gain, best gain: -inf\n",
      "[LightGBM] [Warning] No further splits with positive gain, best gain: -inf\n",
      "[LightGBM] [Warning] No further splits with positive gain, best gain: -inf\n",
      "[LightGBM] [Warning] No further splits with positive gain, best gain: -inf\n",
      "[90]\tcv_agg's ndcg@1: 0.625044 + 0.00169777\tcv_agg's ndcg@5: 0.573234 + 0.00280433\tcv_agg's ndcg@10: 0.577113 + 0.00292863\n",
      "[LightGBM] [Warning] No further splits with positive gain, best gain: -inf\n",
      "[LightGBM] [Warning] No further splits with positive gain, best gain: -inf\n",
      "[LightGBM] [Warning] No further splits with positive gain, best gain: -inf\n",
      "[LightGBM] [Warning] No further splits with positive gain, best gain: -inf\n",
      "[LightGBM] [Warning] No further splits with positive gain, best gain: -inf\n"
     ]
    },
    {
     "name": "stderr",
     "output_type": "stream",
     "text": [
      "\u001b[32m[I 2022-07-27 17:50:11,789]\u001b[0m Trial 4 finished with value: 0.5827377295524029 and parameters: {'lambda_l1': 0.00010123623725183876, 'lambda_l2': 0.0011440172917691488, 'max_depth': 8, 'num_leaves': 91, 'colsample_bytree': 0.5381971793910936, 'min_data_in_leaf': 13, 'min_sum_hessian_in_leaf': 2.831397169129265, 'learning_rate': 0.2856041327762513}. Best is trial 4 with value: 0.5827377295524029.\u001b[0m\n"
     ]
    },
    {
     "name": "stdout",
     "output_type": "stream",
     "text": [
      "[100]\tcv_agg's ndcg@1: 0.634191 + 0.00252669\tcv_agg's ndcg@5: 0.57961 + 0.00277169\tcv_agg's ndcg@10: 0.582738 + 0.00336254\n"
     ]
    }
   ],
   "source": [
    "def objective(trial, data):\n",
    "    params = {\n",
    "        \"task\": \"train\",\n",
    "        \"objective\": \"lambdarank\",\n",
    "        \"metric\": \"ndcg\",\n",
    "        \"ndcg_eval_at\": [10, 5, 1],\n",
    "        \"num_threads\": 4,\n",
    "        \"feature_pre_filter\": False,\n",
    "        \"reg_alpha\": trial.suggest_loguniform(\"lambda_l1\", 1e-8, 10.0),\n",
    "        \"reg_lambda\": trial.suggest_loguniform(\"lambda_l2\", 1e-8, 10.0),\n",
    "        \"max_depth\": trial.suggest_int(\"max_depth\", 3, 8),\n",
    "        \"num_leaves\": trial.suggest_int(\"num_leaves\", 2, 256),\n",
    "        \"colsample_bytree\": trial.suggest_uniform(\"colsample_bytree\", 0.1, 1),\n",
    "        #'subsample': trial.suggest_uniform('subsample', 1e-8, 1),\n",
    "        \"min_data_in_leaf\": trial.suggest_int(\"min_data_in_leaf\", 5, 100),\n",
    "        \"min_sum_hessian_in_leaf\": trial.suggest_loguniform(\n",
    "            \"min_sum_hessian_in_leaf\", 1e-8, 10.0\n",
    "        ),\n",
    "        \"learning_rate\": trial.suggest_float(\"learning_rate\", 1e-1, 3e-1),\n",
    "    }\n",
    "\n",
    "    cv_results = lgb.cv(\n",
    "        params,\n",
    "        data,\n",
    "        num_boost_round=100,\n",
    "        nfold=3,\n",
    "        callbacks=[\n",
    "            lgb.log_evaluation(10),\n",
    "            lgb.early_stopping(\n",
    "                stopping_rounds=5, first_metric_only=True, verbose=False\n",
    "            ),\n",
    "        ],\n",
    "    )\n",
    "\n",
    "    return cv_results[\"ndcg@10-mean\"][-1]\n",
    "\n",
    "\n",
    "study = optuna.create_study(direction=\"maximize\", study_name=\"LGBM Ranking\")\n",
    "func = lambda trial: objective(trial, train_data)\n",
    "study.optimize(func, n_trials=5)"
   ]
  },
  {
   "cell_type": "code",
   "execution_count": 14,
   "metadata": {},
   "outputs": [
    {
     "name": "stdout",
     "output_type": "stream",
     "text": [
      "\tBest value: 0.58274\n",
      "\tBest params:\n",
      "\t\tlambda_l1: 0.00010123623725183876\n",
      "\t\tlambda_l2: 0.0011440172917691488\n",
      "\t\tmax_depth: 8\n",
      "\t\tnum_leaves: 91\n",
      "\t\tcolsample_bytree: 0.5381971793910936\n",
      "\t\tmin_data_in_leaf: 13\n",
      "\t\tmin_sum_hessian_in_leaf: 2.831397169129265\n",
      "\t\tlearning_rate: 0.2856041327762513\n"
     ]
    }
   ],
   "source": [
    "print(f\"\\tBest value: {study.best_value:.5f}\")\n",
    "print(f\"\\tBest params:\")\n",
    "\n",
    "for key, value in study.best_params.items():\n",
    "    print(f\"\\t\\t{key}: {value}\")"
   ]
  },
  {
   "cell_type": "markdown",
   "metadata": {},
   "source": []
  },
  {
   "cell_type": "code",
   "execution_count": 28,
   "metadata": {},
   "outputs": [],
   "source": [
    "train_data = lgb.Dataset(data=train_features, label=train_labels, group=train_groups)\n",
    "test_data = lgb.Dataset(data=test_features, label=test_labels, group=test_groups)"
   ]
  },
  {
   "cell_type": "code",
   "execution_count": 30,
   "metadata": {},
   "outputs": [],
   "source": [
    "param"
   ]
  },
  {
   "cell_type": "code",
   "execution_count": 31,
   "metadata": {
    "scrolled": true,
    "slideshow": {
     "slide_type": "fragment"
    },
    "tags": []
   },
   "outputs": [
    {
     "name": "stdout",
     "output_type": "stream",
     "text": [
      "[LightGBM] [Warning] Auto-choosing row-wise multi-threading, the overhead of testing was 0.573614 seconds.\n",
      "You can set `force_row_wise=true` to remove the overhead.\n",
      "And if memory is not enough, you can set `force_col_wise=true`.\n",
      "[LightGBM] [Info] Total Bins 25566\n",
      "[LightGBM] [Info] Number of data points in the train set: 3600576, number of used features: 136\n",
      "Training until validation scores don't improve for 5 rounds\n",
      "[LightGBM] [Warning] No further splits with positive gain, best gain: -inf\n",
      "[LightGBM] [Warning] No further splits with positive gain, best gain: -inf\n",
      "[LightGBM] [Warning] No further splits with positive gain, best gain: -inf\n",
      "[LightGBM] [Warning] No further splits with positive gain, best gain: -inf\n",
      "[LightGBM] [Warning] No further splits with positive gain, best gain: -inf\n",
      "[LightGBM] [Warning] No further splits with positive gain, best gain: -inf\n",
      "[LightGBM] [Warning] No further splits with positive gain, best gain: -inf\n",
      "[LightGBM] [Warning] No further splits with positive gain, best gain: -inf\n",
      "[LightGBM] [Warning] No further splits with positive gain, best gain: -inf\n",
      "[LightGBM] [Warning] No further splits with positive gain, best gain: -inf\n",
      "[LightGBM] [Warning] No further splits with positive gain, best gain: -inf\n",
      "[100]\tvalid's ndcg@1: 0.683979\tvalid's ndcg@3: 0.629224\tvalid's ndcg@5: 0.616542\tvalid's ndcg@10: 0.614282\n",
      "[LightGBM] [Warning] No further splits with positive gain, best gain: -inf\n",
      "[LightGBM] [Warning] No further splits with positive gain, best gain: -inf\n",
      "[LightGBM] [Warning] No further splits with positive gain, best gain: -inf\n",
      "[LightGBM] [Warning] No further splits with positive gain, best gain: -inf\n",
      "[LightGBM] [Warning] No further splits with positive gain, best gain: -inf\n",
      "[LightGBM] [Warning] No further splits with positive gain, best gain: -inf\n",
      "[LightGBM] [Warning] No further splits with positive gain, best gain: -inf\n",
      "[LightGBM] [Warning] No further splits with positive gain, best gain: -inf\n",
      "[LightGBM] [Warning] No further splits with positive gain, best gain: -inf\n",
      "[LightGBM] [Warning] No further splits with positive gain, best gain: -inf\n",
      "[LightGBM] [Warning] No further splits with positive gain, best gain: -inf\n",
      "[LightGBM] [Warning] No further splits with positive gain, best gain: -inf\n",
      "[LightGBM] [Warning] No further splits with positive gain, best gain: -inf\n",
      "[LightGBM] [Warning] No further splits with positive gain, best gain: -inf\n",
      "[LightGBM] [Warning] No further splits with positive gain, best gain: -inf\n",
      "[200]\tvalid's ndcg@1: 0.764118\tvalid's ndcg@3: 0.703417\tvalid's ndcg@5: 0.685055\tvalid's ndcg@10: 0.674181\n",
      "[LightGBM] [Warning] No further splits with positive gain, best gain: -inf\n",
      "[LightGBM] [Warning] No further splits with positive gain, best gain: -inf\n",
      "[LightGBM] [Warning] No further splits with positive gain, best gain: -inf\n",
      "[LightGBM] [Warning] No further splits with positive gain, best gain: -inf\n",
      "[LightGBM] [Warning] No further splits with positive gain, best gain: -inf\n",
      "[LightGBM] [Warning] No further splits with positive gain, best gain: -inf\n",
      "[LightGBM] [Warning] No further splits with positive gain, best gain: -inf\n",
      "[LightGBM] [Warning] No further splits with positive gain, best gain: -inf\n",
      "[LightGBM] [Warning] No further splits with positive gain, best gain: -inf\n",
      "[LightGBM] [Warning] No further splits with positive gain, best gain: -inf\n",
      "[LightGBM] [Warning] No further splits with positive gain, best gain: -inf\n",
      "[300]\tvalid's ndcg@1: 0.810266\tvalid's ndcg@3: 0.755541\tvalid's ndcg@5: 0.735415\tvalid's ndcg@10: 0.719593\n",
      "[LightGBM] [Warning] No further splits with positive gain, best gain: -inf\n",
      "[LightGBM] [Warning] No further splits with positive gain, best gain: -inf\n",
      "[LightGBM] [Warning] No further splits with positive gain, best gain: -inf\n",
      "[LightGBM] [Warning] No further splits with positive gain, best gain: -inf\n",
      "[LightGBM] [Warning] No further splits with positive gain, best gain: -inf\n",
      "[LightGBM] [Warning] No further splits with positive gain, best gain: -inf\n",
      "[LightGBM] [Warning] No further splits with positive gain, best gain: -inf\n",
      "[LightGBM] [Warning] No further splits with positive gain, best gain: -inf\n",
      "[LightGBM] [Warning] No further splits with positive gain, best gain: -inf\n",
      "[LightGBM] [Warning] No further splits with positive gain, best gain: -inf\n",
      "[400]\tvalid's ndcg@1: 0.842741\tvalid's ndcg@3: 0.795866\tvalid's ndcg@5: 0.775361\tvalid's ndcg@10: 0.756746\n",
      "[LightGBM] [Warning] No further splits with positive gain, best gain: -inf\n",
      "[LightGBM] [Warning] No further splits with positive gain, best gain: -inf\n",
      "[LightGBM] [Warning] No further splits with positive gain, best gain: -inf\n",
      "[LightGBM] [Warning] No further splits with positive gain, best gain: -inf\n",
      "[LightGBM] [Warning] No further splits with positive gain, best gain: -inf\n",
      "[LightGBM] [Warning] No further splits with positive gain, best gain: -inf\n",
      "[LightGBM] [Warning] No further splits with positive gain, best gain: -inf\n",
      "[LightGBM] [Warning] No further splits with positive gain, best gain: -inf\n",
      "[LightGBM] [Warning] No further splits with positive gain, best gain: -inf\n",
      "[LightGBM] [Warning] No further splits with positive gain, best gain: -inf\n",
      "[LightGBM] [Warning] No further splits with positive gain, best gain: -inf\n",
      "[LightGBM] [Warning] No further splits with positive gain, best gain: -inf\n",
      "[LightGBM] [Warning] No further splits with positive gain, best gain: -inf\n",
      "[LightGBM] [Warning] No further splits with positive gain, best gain: -inf\n",
      "[LightGBM] [Warning] No further splits with positive gain, best gain: -inf\n",
      "[LightGBM] [Warning] No further splits with positive gain, best gain: -inf\n",
      "[LightGBM] [Warning] No further splits with positive gain, best gain: -inf\n",
      "[LightGBM] [Warning] No further splits with positive gain, best gain: -inf\n",
      "[LightGBM] [Warning] No further splits with positive gain, best gain: -inf\n",
      "[LightGBM] [Warning] No further splits with positive gain, best gain: -inf\n",
      "[LightGBM] [Warning] No further splits with positive gain, best gain: -inf\n",
      "[LightGBM] [Warning] No further splits with positive gain, best gain: -inf\n",
      "[LightGBM] [Warning] No further splits with positive gain, best gain: -inf\n",
      "[LightGBM] [Warning] No further splits with positive gain, best gain: -inf\n",
      "[500]\tvalid's ndcg@1: 0.863954\tvalid's ndcg@3: 0.821581\tvalid's ndcg@5: 0.802156\tvalid's ndcg@10: 0.783146\n",
      "[LightGBM] [Warning] No further splits with positive gain, best gain: -inf\n",
      "[LightGBM] [Warning] No further splits with positive gain, best gain: -inf\n",
      "[LightGBM] [Warning] No further splits with positive gain, best gain: -inf\n",
      "[LightGBM] [Warning] No further splits with positive gain, best gain: -inf\n",
      "[LightGBM] [Warning] No further splits with positive gain, best gain: -inf\n",
      "[LightGBM] [Warning] No further splits with positive gain, best gain: -inf\n",
      "[LightGBM] [Warning] No further splits with positive gain, best gain: -inf\n",
      "[LightGBM] [Warning] No further splits with positive gain, best gain: -inf\n",
      "[LightGBM] [Warning] No further splits with positive gain, best gain: -inf\n",
      "[LightGBM] [Warning] No further splits with positive gain, best gain: -inf\n",
      "[LightGBM] [Warning] No further splits with positive gain, best gain: -inf\n",
      "[LightGBM] [Warning] No further splits with positive gain, best gain: -inf\n",
      "[LightGBM] [Warning] No further splits with positive gain, best gain: -inf\n",
      "[LightGBM] [Warning] No further splits with positive gain, best gain: -inf\n",
      "[LightGBM] [Warning] No further splits with positive gain, best gain: -inf\n",
      "[LightGBM] [Warning] No further splits with positive gain, best gain: -inf\n",
      "[LightGBM] [Warning] No further splits with positive gain, best gain: -inf\n",
      "[LightGBM] [Warning] No further splits with positive gain, best gain: -inf\n",
      "[LightGBM] [Warning] No further splits with positive gain, best gain: -inf\n",
      "[LightGBM] [Warning] No further splits with positive gain, best gain: -inf\n",
      "[LightGBM] [Warning] No further splits with positive gain, best gain: -inf\n",
      "[LightGBM] [Warning] No further splits with positive gain, best gain: -inf\n",
      "[LightGBM] [Warning] No further splits with positive gain, best gain: -inf\n",
      "[600]\tvalid's ndcg@1: 0.878893\tvalid's ndcg@3: 0.84144\tvalid's ndcg@5: 0.824517\tvalid's ndcg@10: 0.805024\n",
      "[LightGBM] [Warning] No further splits with positive gain, best gain: -inf\n",
      "[LightGBM] [Warning] No further splits with positive gain, best gain: -inf\n",
      "[LightGBM] [Warning] No further splits with positive gain, best gain: -inf\n",
      "[LightGBM] [Warning] No further splits with positive gain, best gain: -inf\n",
      "[LightGBM] [Warning] No further splits with positive gain, best gain: -inf\n",
      "[LightGBM] [Warning] No further splits with positive gain, best gain: -inf\n",
      "[LightGBM] [Warning] No further splits with positive gain, best gain: -inf\n",
      "[LightGBM] [Warning] No further splits with positive gain, best gain: -inf\n",
      "[LightGBM] [Warning] No further splits with positive gain, best gain: -inf\n",
      "[LightGBM] [Warning] No further splits with positive gain, best gain: -inf\n",
      "[LightGBM] [Warning] No further splits with positive gain, best gain: -inf\n",
      "[700]\tvalid's ndcg@1: 0.892397\tvalid's ndcg@3: 0.859345\tvalid's ndcg@5: 0.844303\tvalid's ndcg@10: 0.825537\n",
      "[LightGBM] [Warning] No further splits with positive gain, best gain: -inf\n",
      "[LightGBM] [Warning] No further splits with positive gain, best gain: -inf\n",
      "[LightGBM] [Warning] No further splits with positive gain, best gain: -inf\n",
      "[LightGBM] [Warning] No further splits with positive gain, best gain: -inf\n",
      "[LightGBM] [Warning] No further splits with positive gain, best gain: -inf\n",
      "[LightGBM] [Warning] No further splits with positive gain, best gain: -inf\n",
      "[LightGBM] [Warning] No further splits with positive gain, best gain: -inf\n",
      "[LightGBM] [Warning] No further splits with positive gain, best gain: -inf\n",
      "[LightGBM] [Warning] No further splits with positive gain, best gain: -inf\n",
      "[LightGBM] [Warning] No further splits with positive gain, best gain: -inf\n",
      "[LightGBM] [Warning] No further splits with positive gain, best gain: -inf\n",
      "[LightGBM] [Warning] No further splits with positive gain, best gain: -inf\n",
      "[LightGBM] [Warning] No further splits with positive gain, best gain: -inf\n",
      "[LightGBM] [Warning] No further splits with positive gain, best gain: -inf\n",
      "[LightGBM] [Warning] No further splits with positive gain, best gain: -inf\n",
      "[LightGBM] [Warning] No further splits with positive gain, best gain: -inf\n",
      "[LightGBM] [Warning] No further splits with positive gain, best gain: -inf\n",
      "[LightGBM] [Warning] No further splits with positive gain, best gain: -inf\n",
      "[LightGBM] [Warning] No further splits with positive gain, best gain: -inf\n",
      "[LightGBM] [Warning] No further splits with positive gain, best gain: -inf\n",
      "[800]\tvalid's ndcg@1: 0.903689\tvalid's ndcg@3: 0.874779\tvalid's ndcg@5: 0.860756\tvalid's ndcg@10: 0.842691\n",
      "[LightGBM] [Warning] No further splits with positive gain, best gain: -inf\n",
      "[LightGBM] [Warning] No further splits with positive gain, best gain: -inf\n",
      "[LightGBM] [Warning] No further splits with positive gain, best gain: -inf\n",
      "[LightGBM] [Warning] No further splits with positive gain, best gain: -inf\n",
      "[LightGBM] [Warning] No further splits with positive gain, best gain: -inf\n",
      "[LightGBM] [Warning] No further splits with positive gain, best gain: -inf\n",
      "[LightGBM] [Warning] No further splits with positive gain, best gain: -inf\n",
      "[LightGBM] [Warning] No further splits with positive gain, best gain: -inf\n",
      "[LightGBM] [Warning] No further splits with positive gain, best gain: -inf\n",
      "[LightGBM] [Warning] No further splits with positive gain, best gain: -inf\n",
      "[LightGBM] [Warning] No further splits with positive gain, best gain: -inf\n",
      "[LightGBM] [Warning] No further splits with positive gain, best gain: -inf\n",
      "[LightGBM] [Warning] No further splits with positive gain, best gain: -inf\n",
      "[LightGBM] [Warning] No further splits with positive gain, best gain: -inf\n",
      "[LightGBM] [Warning] No further splits with positive gain, best gain: -inf\n",
      "[LightGBM] [Warning] No further splits with positive gain, best gain: -inf\n",
      "[LightGBM] [Warning] No further splits with positive gain, best gain: -inf\n",
      "[900]\tvalid's ndcg@1: 0.913907\tvalid's ndcg@3: 0.887904\tvalid's ndcg@5: 0.875231\tvalid's ndcg@10: 0.858323\n",
      "[LightGBM] [Warning] No further splits with positive gain, best gain: -inf\n",
      "[LightGBM] [Warning] No further splits with positive gain, best gain: -inf\n",
      "[LightGBM] [Warning] No further splits with positive gain, best gain: -inf\n",
      "[LightGBM] [Warning] No further splits with positive gain, best gain: -inf\n",
      "[LightGBM] [Warning] No further splits with positive gain, best gain: -inf\n",
      "[LightGBM] [Warning] No further splits with positive gain, best gain: -inf\n",
      "[LightGBM] [Warning] No further splits with positive gain, best gain: -inf\n",
      "[LightGBM] [Warning] No further splits with positive gain, best gain: -inf\n",
      "Early stopping, best iteration is:\n",
      "[946]\tvalid's ndcg@1: 0.917954\tvalid's ndcg@3: 0.893157\tvalid's ndcg@5: 0.881269\tvalid's ndcg@10: 0.864631\n"
     ]
    }
   ],
   "source": [
    "param = {\n",
    "    \"task\": \"train\",\n",
    "    \"num_leaves\": 255,\n",
    "    \"min_data_in_leaf\": 1,\n",
    "    \"min_sum_hessian_in_leaf\": 100,\n",
    "    \"objective\": \"lambdarank\",\n",
    "    \"metric\": \"ndcg\",\n",
    "    \"ndcg_eval_at\": [1, 3, 5, 10],\n",
    "    \"learning_rate\": 0.1,\n",
    "    \"num_threads\": 2,\n",
    "}\n",
    "param.update(study.best_params)\n",
    "\n",
    "res = {}\n",
    "bst = lgb.train(\n",
    "    param,\n",
    "    train_data,\n",
    "    valid_sets=[test_data],\n",
    "    valid_names=[\"valid\"],\n",
    "    num_boost_round=1000,\n",
    "    callbacks=[\n",
    "        lgb.record_evaluation(res),\n",
    "        lgb.log_evaluation(100),\n",
    "        lgb.early_stopping(stopping_rounds=5),\n",
    "    ],\n",
    ")"
   ]
  },
  {
   "cell_type": "code",
   "execution_count": 32,
   "metadata": {
    "slideshow": {
     "slide_type": "fragment"
    }
   },
   "outputs": [
    {
     "data": {
      "text/html": [
       "<div>\n",
       "<style scoped>\n",
       "    .dataframe tbody tr th:only-of-type {\n",
       "        vertical-align: middle;\n",
       "    }\n",
       "\n",
       "    .dataframe tbody tr th {\n",
       "        vertical-align: top;\n",
       "    }\n",
       "\n",
       "    .dataframe thead th {\n",
       "        text-align: right;\n",
       "    }\n",
       "</style>\n",
       "<table border=\"1\" class=\"dataframe\">\n",
       "  <thead>\n",
       "    <tr style=\"text-align: right;\">\n",
       "      <th></th>\n",
       "      <th>ndcg@1</th>\n",
       "      <th>ndcg@3</th>\n",
       "      <th>ndcg@5</th>\n",
       "      <th>ndcg@10</th>\n",
       "    </tr>\n",
       "  </thead>\n",
       "  <tbody>\n",
       "    <tr>\n",
       "      <th>946</th>\n",
       "      <td>0.917900</td>\n",
       "      <td>0.893143</td>\n",
       "      <td>0.881308</td>\n",
       "      <td>0.864731</td>\n",
       "    </tr>\n",
       "    <tr>\n",
       "      <th>947</th>\n",
       "      <td>0.917756</td>\n",
       "      <td>0.893326</td>\n",
       "      <td>0.881469</td>\n",
       "      <td>0.864885</td>\n",
       "    </tr>\n",
       "    <tr>\n",
       "      <th>948</th>\n",
       "      <td>0.917885</td>\n",
       "      <td>0.893529</td>\n",
       "      <td>0.881725</td>\n",
       "      <td>0.865137</td>\n",
       "    </tr>\n",
       "    <tr>\n",
       "      <th>949</th>\n",
       "      <td>0.917929</td>\n",
       "      <td>0.893526</td>\n",
       "      <td>0.881778</td>\n",
       "      <td>0.865252</td>\n",
       "    </tr>\n",
       "    <tr>\n",
       "      <th>950</th>\n",
       "      <td>0.917929</td>\n",
       "      <td>0.893552</td>\n",
       "      <td>0.881845</td>\n",
       "      <td>0.865298</td>\n",
       "    </tr>\n",
       "  </tbody>\n",
       "</table>\n",
       "</div>"
      ],
      "text/plain": [
       "       ndcg@1    ndcg@3    ndcg@5   ndcg@10\n",
       "946  0.917900  0.893143  0.881308  0.864731\n",
       "947  0.917756  0.893326  0.881469  0.864885\n",
       "948  0.917885  0.893529  0.881725  0.865137\n",
       "949  0.917929  0.893526  0.881778  0.865252\n",
       "950  0.917929  0.893552  0.881845  0.865298"
      ]
     },
     "execution_count": 32,
     "metadata": {},
     "output_type": "execute_result"
    }
   ],
   "source": [
    "pd.DataFrame(res[\"valid\"]).tail()"
   ]
  },
  {
   "cell_type": "code",
   "execution_count": 33,
   "metadata": {
    "scrolled": true,
    "tags": []
   },
   "outputs": [
    {
     "name": "stdout",
     "output_type": "stream",
     "text": [
      "1 qid:29995 1:1 2:0 3:0 4:0 5:1 6:0.50000 7:0 8:0 9:0 10:0.50000 11:439 12:0 13:19 14:12 15:470 16:27.896604 17:32.206631 18:31.723366 19:31.997173 20:27.894259 21:1 22:0 23:0 24:0 25:1 26:0 27:0 28:0 29:0 30:0 31:1 32:0 33:0 34:0 35:1 36:0.50000 37:0 38:0 39:0 40:0.50000 41:0.25000 42:0 43:0 44:0 45:0.25000 46:0.002278 47:0 48:0 49:0 50:0.002128 51:0 52:0 53:0 54:0 55:0 56:0.002278 57:0 58:0 59:0 60:0.002128 61:0.001139 62:0 63:0 64:0 65:0.001064 66:0.000001 67:0 68:0 69:0 70:0.000001 71:9.475923 72:0 73:0 74:0 75:9.473578 76:0 77:0 78:0 79:0 80:0 81:9.475923 82:0 83:0 84:0 85:9.473578 86:4.737962 87:0 88:0 89:0 90:4.736789 91:22.448281 92:0 93:0 94:0 95:22.437171 96:0 97:0 98:0 99:0 100:0 101:0.471409 102:0 103:0 104:0 105:0.471318 106:12.985653 107:0 108:0 109:0 110:12.740497 111:-7.28838 112:-2.813407 113:-3.768915 114:-3.976556 115:-7.35661 116:-7.799037 117:-7.60278 118:-7.606904 119:-7.608572 120:-7.811665 121:-6.189852 122:-1.714798 123:-2.67031 124:-2.877949 125:-6.258085 126:6 127:61 128:24242 129:27 130:6135 131:51819 132:2 133:4 134:0 135:0 136:0 \n",
      "2 qid:29995 1:0 2:0 3:0 4:0 5:0 6:0 7:0 8:0 9:0 10:0 11:0 12:5 13:0 14:9 15:14 16:27.896604 17:32.206631 18:31.723366 19:31.997173 20:27.894259 21:0 22:0 23:0 24:0 25:0 26:0 27:0 28:0 29:0 30:0 31:0 32:0 33:0 34:0 35:0 36:0 37:0 38:0 39:0 40:0 41:0 42:0 43:0 44:0 45:0 46:0 47:0 48:0 49:0 50:0 51:0 52:0 53:0 54:0 55:0 56:0 57:0 58:0 59:0 60:0 61:0 62:0 63:0 64:0 65:0 66:0 67:0 68:0 69:0 70:0 71:0 72:0 73:0 74:0 75:0 76:0 77:0 78:0 79:0 80:0 81:0 82:0 83:0 84:0 85:0 86:0 87:0 88:0 89:0 90:0 91:0 92:0 93:0 94:0 95:0 96:0 97:0 98:0 99:0 100:0 101:0 102:0 103:0 104:0 105:0 106:0 107:0 108:0 109:0 110:0 111:-8.363076 112:-2.813407 113:-3.768915 114:-3.976556 115:-8.129378 116:-8.09712 117:-7.60278 118:-7.606904 119:-7.608572 120:-8.012041 121:-7.264631 122:-1.714798 123:-2.67031 124:-2.877949 125:-7.030938 126:4 127:42 128:100 129:0 130:3121 131:61234 132:49 133:6 134:0 135:0 136:0 \n",
      "1 qid:29995 1:0 2:0 3:0 4:0 5:0 6:0 7:0 8:0 9:0 10:0 11:238 12:0 13:6 14:9 15:253 16:27.896604 17:32.206631 18:31.723366 19:31.997173 20:27.894259 21:0 22:0 23:0 24:0 25:0 26:0 27:0 28:0 29:0 30:0 31:0 32:0 33:0 34:0 35:0 36:0 37:0 38:0 39:0 40:0 41:0 42:0 43:0 44:0 45:0 46:0 47:0 48:0 49:0 50:0 51:0 52:0 53:0 54:0 55:0 56:0 57:0 58:0 59:0 60:0 61:0 62:0 63:0 64:0 65:0 66:0 67:0 68:0 69:0 70:0 71:0 72:0 73:0 74:0 75:0 76:0 77:0 78:0 79:0 80:0 81:0 82:0 83:0 84:0 85:0 86:0 87:0 88:0 89:0 90:0 91:0 92:0 93:0 94:0 95:0 96:0 97:0 98:0 99:0 100:0 101:0 102:0 103:0 104:0 105:0 106:0 107:0 108:0 109:0 110:0 111:-8.363076 112:-2.813407 113:-3.768915 114:-3.976556 115:-8.129378 116:-8.09712 117:-7.60278 118:-7.606904 119:-7.608572 120:-8.012041 121:-7.264631 122:-1.714798 123:-2.67031 124:-2.877949 125:-7.030938 126:3 127:36 128:5 129:0 130:752 131:45476 132:5 133:2 134:0 135:0 136:0 \n"
     ]
    }
   ],
   "source": [
    "!tail -n3 ../data/MSLR-WEB10K/Fold1/vali.txt"
   ]
  },
  {
   "cell_type": "code",
   "execution_count": 34,
   "metadata": {},
   "outputs": [],
   "source": [
    "vali_features, vali_labels, vali_groups = format_data(\"vali\")"
   ]
  },
  {
   "cell_type": "code",
   "execution_count": 35,
   "metadata": {},
   "outputs": [],
   "source": [
    "vali_groups = [[i] * g for i, g in enumerate(vali_groups)]\n",
    "vali_groups = [i for g in vali_groups for i in g]"
   ]
  },
  {
   "cell_type": "code",
   "execution_count": 36,
   "metadata": {},
   "outputs": [],
   "source": [
    "predictions = bst.predict(vali_features)"
   ]
  },
  {
   "cell_type": "code",
   "execution_count": 37,
   "metadata": {},
   "outputs": [],
   "source": [
    "predict_df = pd.DataFrame(\n",
    "    {\n",
    "        \"query_id\": vali_groups,\n",
    "        \"true_label\": vali_labels,\n",
    "        \"predicted\": predictions,\n",
    "    }\n",
    ")"
   ]
  },
  {
   "cell_type": "code",
   "execution_count": 38,
   "metadata": {},
   "outputs": [
    {
     "data": {
      "text/html": [
       "<div>\n",
       "<style scoped>\n",
       "    .dataframe tbody tr th:only-of-type {\n",
       "        vertical-align: middle;\n",
       "    }\n",
       "\n",
       "    .dataframe tbody tr th {\n",
       "        vertical-align: top;\n",
       "    }\n",
       "\n",
       "    .dataframe thead th {\n",
       "        text-align: right;\n",
       "    }\n",
       "</style>\n",
       "<table border=\"1\" class=\"dataframe\">\n",
       "  <thead>\n",
       "    <tr style=\"text-align: right;\">\n",
       "      <th></th>\n",
       "      <th>query_id</th>\n",
       "      <th>true_label</th>\n",
       "      <th>predicted</th>\n",
       "    </tr>\n",
       "  </thead>\n",
       "  <tbody>\n",
       "    <tr>\n",
       "      <th>0</th>\n",
       "      <td>0</td>\n",
       "      <td>2</td>\n",
       "      <td>-1.224149</td>\n",
       "    </tr>\n",
       "    <tr>\n",
       "      <th>1</th>\n",
       "      <td>0</td>\n",
       "      <td>1</td>\n",
       "      <td>-1.374357</td>\n",
       "    </tr>\n",
       "    <tr>\n",
       "      <th>2</th>\n",
       "      <td>0</td>\n",
       "      <td>3</td>\n",
       "      <td>-2.932686</td>\n",
       "    </tr>\n",
       "    <tr>\n",
       "      <th>3</th>\n",
       "      <td>0</td>\n",
       "      <td>1</td>\n",
       "      <td>-1.322733</td>\n",
       "    </tr>\n",
       "    <tr>\n",
       "      <th>4</th>\n",
       "      <td>0</td>\n",
       "      <td>0</td>\n",
       "      <td>-1.653431</td>\n",
       "    </tr>\n",
       "  </tbody>\n",
       "</table>\n",
       "</div>"
      ],
      "text/plain": [
       "   query_id  true_label  predicted\n",
       "0         0           2  -1.224149\n",
       "1         0           1  -1.374357\n",
       "2         0           3  -2.932686\n",
       "3         0           1  -1.322733\n",
       "4         0           0  -1.653431"
      ]
     },
     "execution_count": 38,
     "metadata": {},
     "output_type": "execute_result"
    }
   ],
   "source": [
    "predict_df.head()"
   ]
  },
  {
   "cell_type": "code",
   "execution_count": 41,
   "metadata": {},
   "outputs": [
    {
     "data": {
      "text/plain": [
       "0.999940961949751"
      ]
     },
     "execution_count": 41,
     "metadata": {},
     "output_type": "execute_result"
    }
   ],
   "source": [
    "ndcg_score(\n",
    "    predict_df[[\"true_label\", \"query_id\"]], predict_df[[\"predicted\", \"query_id\"]], k=10\n",
    ")"
   ]
  },
  {
   "cell_type": "code",
   "execution_count": null,
   "metadata": {},
   "outputs": [],
   "source": []
  }
 ],
 "metadata": {
  "celltoolbar": "Slideshow",
  "kernelspec": {
   "display_name": "conda_py39",
   "language": "python",
   "name": "conda_py39"
  },
  "language_info": {
   "codemirror_mode": {
    "name": "ipython",
    "version": 3
   },
   "file_extension": ".py",
   "mimetype": "text/x-python",
   "name": "python",
   "nbconvert_exporter": "python",
   "pygments_lexer": "ipython3",
   "version": "3.9.7"
  }
 },
 "nbformat": 4,
 "nbformat_minor": 4
}
