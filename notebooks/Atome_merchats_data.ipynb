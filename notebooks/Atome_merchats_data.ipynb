{
 "cells": [
  {
   "cell_type": "code",
   "execution_count": 1,
   "metadata": {},
   "outputs": [],
   "source": [
    "import pandas as pd\n",
    "from urllib.parse import unquote_plus\n",
    "from sentence_transformers import SentenceTransformer, util\n",
    "from collections import defaultdict\n",
    "import torch, string, spacy, pickle\n",
    "import warnings\n",
    "warnings.filterwarnings('ignore')"
   ]
  },
  {
   "cell_type": "code",
   "execution_count": 2,
   "metadata": {},
   "outputs": [],
   "source": [
    "nlp = spacy.load('en_core_web_sm')"
   ]
  },
  {
   "cell_type": "code",
   "execution_count": 3,
   "metadata": {},
   "outputs": [],
   "source": [
    "def process_text (s):\n",
    "    s = s.translate(str.maketrans('', '', string.punctuation))\n",
    "    doc = nlp(s)\n",
    "    lm_txt = ' '.join([token.lemma_ for token in doc]).lower()\n",
    "    return lm_txt"
   ]
  },
  {
   "cell_type": "code",
   "execution_count": 4,
   "metadata": {},
   "outputs": [
    {
     "data": {
      "text/html": [
       "<div>\n",
       "<style scoped>\n",
       "    .dataframe tbody tr th:only-of-type {\n",
       "        vertical-align: middle;\n",
       "    }\n",
       "\n",
       "    .dataframe tbody tr th {\n",
       "        vertical-align: top;\n",
       "    }\n",
       "\n",
       "    .dataframe thead th {\n",
       "        text-align: right;\n",
       "    }\n",
       "</style>\n",
       "<table border=\"1\" class=\"dataframe\">\n",
       "  <thead>\n",
       "    <tr style=\"text-align: right;\">\n",
       "      <th></th>\n",
       "      <th>atome_page</th>\n",
       "      <th>merchant_site</th>\n",
       "      <th>description</th>\n",
       "      <th>merchant_name</th>\n",
       "    </tr>\n",
       "  </thead>\n",
       "  <tbody>\n",
       "    <tr>\n",
       "      <th>0</th>\n",
       "      <td>https://www.atome.sg/paylater-merchants/ZARA</td>\n",
       "      <td>None</td>\n",
       "      <td>fashion retail chain zara have come a long way...</td>\n",
       "      <td>zara</td>\n",
       "    </tr>\n",
       "    <tr>\n",
       "      <th>1</th>\n",
       "      <td>https://www.atome.sg/paylater-merchants/1gravity</td>\n",
       "      <td>None</td>\n",
       "      <td>1gravity offer bespoke hair care for modern ma...</td>\n",
       "      <td>1gravity</td>\n",
       "    </tr>\n",
       "    <tr>\n",
       "      <th>2</th>\n",
       "      <td>https://www.atome.sg/paylater-merchants/3arts+...</td>\n",
       "      <td>None</td>\n",
       "      <td>3art pottery be a pottery studio base in singa...</td>\n",
       "      <td>3arts pottery</td>\n",
       "    </tr>\n",
       "  </tbody>\n",
       "</table>\n",
       "</div>"
      ],
      "text/plain": [
       "                                          atome_page merchant_site  \\\n",
       "0       https://www.atome.sg/paylater-merchants/ZARA          None   \n",
       "1   https://www.atome.sg/paylater-merchants/1gravity          None   \n",
       "2  https://www.atome.sg/paylater-merchants/3arts+...          None   \n",
       "\n",
       "                                         description  merchant_name  \n",
       "0  fashion retail chain zara have come a long way...           zara  \n",
       "1  1gravity offer bespoke hair care for modern ma...       1gravity  \n",
       "2  3art pottery be a pottery studio base in singa...  3arts pottery  "
      ]
     },
     "execution_count": 4,
     "metadata": {},
     "output_type": "execute_result"
    }
   ],
   "source": [
    "atome_merchants = pd.read_json('../data/ecommerce/atome/merchants_info.json', lines=True)\n",
    "atome_merchants['merchant_name'] = atome_merchants['atome_page'].apply(lambda x: unquote_plus(x.split('/')[-1])).str.lower()\n",
    "atome_merchants = atome_merchants.drop_duplicates(subset='merchant_name').reset_index(drop=True)\n",
    "atome_merchants['description'] = atome_merchants.description.apply(lambda s: process_text(s))\n",
    "\n",
    "atome_merchants.head(3)"
   ]
  },
  {
   "cell_type": "code",
   "execution_count": 5,
   "metadata": {},
   "outputs": [
    {
     "name": "stdout",
     "output_type": "stream",
     "text": [
      "<class 'pandas.core.frame.DataFrame'>\n",
      "RangeIndex: 823 entries, 0 to 822\n",
      "Data columns (total 4 columns):\n",
      " #   Column         Non-Null Count  Dtype \n",
      "---  ------         --------------  ----- \n",
      " 0   atome_page     823 non-null    object\n",
      " 1   merchant_site  477 non-null    object\n",
      " 2   description    823 non-null    object\n",
      " 3   merchant_name  823 non-null    object\n",
      "dtypes: object(4)\n",
      "memory usage: 25.8+ KB\n"
     ]
    }
   ],
   "source": [
    "atome_merchants.info()"
   ]
  },
  {
   "cell_type": "code",
   "execution_count": 6,
   "metadata": {},
   "outputs": [],
   "source": [
    "def ngrams(tokens, MIN_N, MAX_N):\n",
    "    n_tokens = len(tokens)\n",
    "    for i in range(n_tokens):\n",
    "        for j in range(i+MIN_N, min(n_tokens, i+MAX_N)+1):\n",
    "            yield tokens[i:j]"
   ]
  },
  {
   "cell_type": "code",
   "execution_count": 11,
   "metadata": {},
   "outputs": [],
   "source": [
    "corpus = atome_merchants.description.tolist()\n",
    "inverted_index = defaultdict(set)\n",
    "\n",
    "for docid, c in enumerate(corpus):\n",
    "    for word in c.split():\n",
    "        inverted_index[word].add(docid)"
   ]
  },
  {
   "cell_type": "code",
   "execution_count": 12,
   "metadata": {},
   "outputs": [],
   "source": [
    "# with open('../data/atome_merchants_inverted_index.pkl', 'wb') as handle:\n",
    "#     pickle.dump(inverted_index, handle, protocol=pickle.HIGHEST_PROTOCOL)\n",
    "\n",
    "with open('../data/atome_merchants_inverted_index.pkl', 'rb') as handle:\n",
    "    inverted_index = pickle.load(handle)"
   ]
  },
  {
   "cell_type": "code",
   "execution_count": 14,
   "metadata": {},
   "outputs": [],
   "source": [
    "def process_and_search(query):\n",
    "    matched_documents = set()\n",
    "    query = process_text(query)\n",
    "    for word in query.split():\n",
    "        matches = inverted_index.get(word)\n",
    "        if matches:\n",
    "            matched_documents |= matches\n",
    "    return matched_documents"
   ]
  },
  {
   "cell_type": "code",
   "execution_count": 15,
   "metadata": {},
   "outputs": [
    {
     "name": "stdout",
     "output_type": "stream",
     "text": [
      "Number of Document vectors: 823, Dimension: 768\n"
     ]
    }
   ],
   "source": [
    "descrips = atome_merchants.description.tolist()\n",
    "embedder = SentenceTransformer('multi-qa-mpnet-base-dot-v1')\n",
    "descrip_embeddings = embedder.encode(descrips, convert_to_tensor=True)\n",
    "docs, dim = descrip_embeddings.shape\n",
    "print(\"Number of Document vectors: {l}, Dimension: {d}\".format(l=docs, d=dim))"
   ]
  },
  {
   "cell_type": "code",
   "execution_count": 18,
   "metadata": {},
   "outputs": [],
   "source": [
    "# torch.save(descrip_embeddings, '../data/atome_descrip_embeddings.pt')\n",
    "\n",
    "# descrip_embeddings = torch.load('../data/atome_descrip_embeddings.pt')"
   ]
  },
  {
   "cell_type": "code",
   "execution_count": 22,
   "metadata": {},
   "outputs": [],
   "source": [
    "query=\"travel\""
   ]
  },
  {
   "cell_type": "code",
   "execution_count": 23,
   "metadata": {},
   "outputs": [],
   "source": [
    "merchant_lookup = {i:merchant for i, merchant in enumerate(atome_merchants.merchant_name.tolist())}"
   ]
  },
  {
   "cell_type": "code",
   "execution_count": 25,
   "metadata": {},
   "outputs": [],
   "source": [
    "# with open('../data/atome_merchant_lookup.pkl', 'wb') as handle:\n",
    "#     pickle.dump(merchant_lookup, handle, protocol=pickle.HIGHEST_PROTOCOL)\n",
    "\n",
    "# with open('../data/atome_merchant_lookup.pkl', 'rb') as handle:\n",
    "#     merchant_lookup = pickle.load(handle)"
   ]
  },
  {
   "cell_type": "code",
   "execution_count": 26,
   "metadata": {},
   "outputs": [
    {
     "name": "stdout",
     "output_type": "stream",
     "text": [
      "\n",
      "\n",
      "======================================================================\n",
      "\n",
      "\n",
      "Query: travel\n",
      "\n",
      "Merchants:\n",
      "\n",
      "\t furama riverfront (Score: 2.0000)\n",
      "\t agoda (Score: 1.4845)\n",
      "\t getit by changi recommends (Score: 1.4533)\n",
      "\t klook travel (Score: 1.3896)\n",
      "\t easybook (Score: 1.3658)\n",
      "\t samsonite (Score: 1.3350)\n",
      "\t american tourister (Score: 1.3005)\n",
      "\t the novus lab (Score: 1.2950)\n",
      "\t coldwear (Score: 1.2871)\n",
      "\t houze (Score: 1.2734)\n",
      "\t crocodile (Score: 1.2622)\n",
      "\t lipault (Score: 1.2410)\n",
      "\t boheme (Score: 1.2003)\n",
      "======================================================================\n"
     ]
    }
   ],
   "source": [
    "match_indx = list(process_and_search(query))\n",
    "query_embedding = embedder.encode(query, convert_to_tensor=True)\n",
    "search_embeddings = descrip_embeddings[match_indx]\n",
    "if len(match_indx) > 0:\n",
    "    cos_scores = util.pytorch_cos_sim(search_embeddings, descrip_embeddings)[0]\n",
    "    idx_scores = [(i,s+1) if i in match_indx else (i,s) for i,s in enumerate(cos_scores)]\n",
    "else: \n",
    "    cos_scores = util.pytorch_cos_sim(query_embedding, search_embeddings)[0]\n",
    "    idx_scores = [(i,s) for i,s in zip(match_indx, cos_scores)]\n",
    "idx_scores = sorted(idx_scores, key=lambda tup: tup[1], reverse=True)\n",
    "\n",
    "print(\"\\n\\n======================================================================\\n\\n\")\n",
    "print(\"Query:\", query)\n",
    "print(\"\\nMerchants:\\n\")\n",
    "\n",
    "for idx, score in idx_scores:\n",
    "    if score > idx_scores[0][1]/3:\n",
    "        print('\\t', merchant_lookup[idx], \"(Score: {:.4f})\".format(score))\n",
    "print(\"======================================================================\")"
   ]
  },
  {
   "cell_type": "code",
   "execution_count": 49,
   "metadata": {},
   "outputs": [
    {
     "data": {
      "text/html": [
       "<div>\n",
       "<style scoped>\n",
       "    .dataframe tbody tr th:only-of-type {\n",
       "        vertical-align: middle;\n",
       "    }\n",
       "\n",
       "    .dataframe tbody tr th {\n",
       "        vertical-align: top;\n",
       "    }\n",
       "\n",
       "    .dataframe thead th {\n",
       "        text-align: right;\n",
       "    }\n",
       "</style>\n",
       "<table border=\"1\" class=\"dataframe\">\n",
       "  <thead>\n",
       "    <tr style=\"text-align: right;\">\n",
       "      <th></th>\n",
       "      <th>atome_page</th>\n",
       "      <th>merchant_site</th>\n",
       "      <th>description</th>\n",
       "      <th>merchant_name</th>\n",
       "    </tr>\n",
       "  </thead>\n",
       "  <tbody>\n",
       "    <tr>\n",
       "      <th>18</th>\n",
       "      <td>https://www.atome.sg/paylater-merchants/agoda</td>\n",
       "      <td>https://www.agoda.com</td>\n",
       "      <td>headquarterd in singapore agoda be one of the ...</td>\n",
       "      <td>agoda</td>\n",
       "    </tr>\n",
       "  </tbody>\n",
       "</table>\n",
       "</div>"
      ],
      "text/plain": [
       "                                       atome_page          merchant_site  \\\n",
       "18  https://www.atome.sg/paylater-merchants/agoda  https://www.agoda.com   \n",
       "\n",
       "                                          description merchant_name  \n",
       "18  headquarterd in singapore agoda be one of the ...         agoda  "
      ]
     },
     "execution_count": 49,
     "metadata": {},
     "output_type": "execute_result"
    }
   ],
   "source": [
    "atome_merchants[atome_merchants.merchant_name == 'agoda'].iloc[18][]"
   ]
  },
  {
   "cell_type": "code",
   "execution_count": 61,
   "metadata": {},
   "outputs": [],
   "source": []
  },
  {
   "cell_type": "code",
   "execution_count": null,
   "metadata": {},
   "outputs": [],
   "source": []
  }
 ],
 "metadata": {
  "kernelspec": {
   "display_name": "conda_py39",
   "language": "python",
   "name": "conda_py39"
  },
  "language_info": {
   "codemirror_mode": {
    "name": "ipython",
    "version": 3
   },
   "file_extension": ".py",
   "mimetype": "text/x-python",
   "name": "python",
   "nbconvert_exporter": "python",
   "pygments_lexer": "ipython3",
   "version": "3.9.7"
  }
 },
 "nbformat": 4,
 "nbformat_minor": 4
}
