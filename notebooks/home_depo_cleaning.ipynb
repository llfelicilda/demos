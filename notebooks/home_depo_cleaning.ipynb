{
 "cells": [
  {
   "cell_type": "code",
   "execution_count": 1,
   "metadata": {
    "colab": {
     "base_uri": "https://localhost:8080/"
    },
    "executionInfo": {
     "elapsed": 579,
     "status": "ok",
     "timestamp": 1623748258489,
     "user": {
      "displayName": "Kriz Moses",
      "photoUrl": "https://lh3.googleusercontent.com/a-/AOh14Gh5AHG3pEQIY30An0gBgkynBoQrUDYQ22HSAT0p7A=s64",
      "userId": "11504316763430471705"
     },
     "user_tz": -330
    },
    "id": "Ivx1Qc2ynZ_G",
    "outputId": "b5d4b31b-2bf2-4c53-a904-e31bb36804e7"
   },
   "outputs": [
    {
     "name": "stdout",
     "output_type": "stream",
     "text": [
      "/Users/felicildaloveme/personal_projects/data/ecommerce/home-depot-product-search-relevance\n",
      "/Users/felicildaloveme/personal_projects/data/ecommerce/home-depot-product-search-relevance\n"
     ]
    }
   ],
   "source": [
    "%cd ../data/ecommerce/home-depot-product-search-relevance/\n",
    "!pwd"
   ]
  },
  {
   "cell_type": "code",
   "execution_count": 2,
   "metadata": {
    "colab": {
     "base_uri": "https://localhost:8080/"
    },
    "executionInfo": {
     "elapsed": 6713,
     "status": "ok",
     "timestamp": 1623748265200,
     "user": {
      "displayName": "Kriz Moses",
      "photoUrl": "https://lh3.googleusercontent.com/a-/AOh14Gh5AHG3pEQIY30An0gBgkynBoQrUDYQ22HSAT0p7A=s64",
      "userId": "11504316763430471705"
     },
     "user_tz": -330
    },
    "id": "5frkBdyioqDc",
    "outputId": "f8e0e3d8-9bbf-4b0d-f4e0-308b7aa1b5c8"
   },
   "outputs": [
    {
     "name": "stderr",
     "output_type": "stream",
     "text": [
      "[nltk_data] Downloading package stopwords to\n",
      "[nltk_data]     /Users/felicildaloveme/nltk_data...\n",
      "[nltk_data]   Package stopwords is already up-to-date!\n"
     ]
    }
   ],
   "source": [
    "import pandas as pd \n",
    "import numpy as np \n",
    "import re\n",
    "from collections import Counter\n",
    "import nltk\n",
    "nltk.download('stopwords')\n",
    "from nltk.corpus import stopwords\n",
    "from nltk.stem import PorterStemmer \n",
    "import pickle"
   ]
  },
  {
   "cell_type": "markdown",
   "metadata": {
    "id": "x7dp6p61oCSo"
   },
   "source": [
    "# Reading the data\n"
   ]
  },
  {
   "cell_type": "code",
   "execution_count": 3,
   "metadata": {
    "colab": {
     "base_uri": "https://localhost:8080/"
    },
    "executionInfo": {
     "elapsed": 701,
     "status": "ok",
     "timestamp": 1623050631860,
     "user": {
      "displayName": "Kriz Moses",
      "photoUrl": "https://lh3.googleusercontent.com/a-/AOh14GjKBNCwUDTthTPvGUZCLjw9vO9n5ddvIshwxW6L=s64",
      "userId": "11504316763430471705"
     },
     "user_tz": -330
    },
    "id": "PciiFFFvocEc",
    "outputId": "8e62cff7-a59e-43bb-9e4b-71731f1b4fe0"
   },
   "outputs": [
    {
     "name": "stdout",
     "output_type": "stream",
     "text": [
      "(74067, 5)\n"
     ]
    }
   ],
   "source": [
    "data = pd.read_csv(\"train.csv\", encoding='iso-8859-1')\n",
    "print(data.shape)"
   ]
  },
  {
   "cell_type": "markdown",
   "metadata": {
    "id": "301-W-X2ZP4q"
   },
   "source": [
    "# Cleaning"
   ]
  },
  {
   "cell_type": "markdown",
   "metadata": {
    "id": "4N8zEaSvCjsM"
   },
   "source": [
    "### Merging the attributes, description and brands"
   ]
  },
  {
   "cell_type": "markdown",
   "metadata": {
    "id": "ahLmgHXifKK5"
   },
   "source": [
    "#### Adding Attributes"
   ]
  },
  {
   "cell_type": "code",
   "execution_count": 4,
   "metadata": {
    "id": "GpCy2nJrvU2h"
   },
   "outputs": [],
   "source": [
    "attr_df = pd.read_csv(\"attributes.csv\", encoding='iso-8859-1')\n",
    "\n",
    "def merge_attributes(df):\n",
    "    product_uids = df['product_uid'].values\n",
    "    temp = attr_df.loc[attr_df['product_uid'].isin(product_uids)].fillna('')  \n",
    "    temp['name_value'] = temp['name'] + ' ' + temp['value']\n",
    "    temp['combined_attr'] = temp.groupby(['product_uid'])['name_value'].transform(lambda x: ' '.join(x))\n",
    "    temp = temp.drop_duplicates('product_uid')[['product_uid', 'combined_attr']]\n",
    "    df = pd.merge(df, temp, on='product_uid', how='left').set_index(df.index)\n",
    "    return df"
   ]
  },
  {
   "cell_type": "code",
   "execution_count": 5,
   "metadata": {
    "id": "T4LQ-VTVcP-V"
   },
   "outputs": [],
   "source": [
    "data = merge_attributes(data)"
   ]
  },
  {
   "cell_type": "markdown",
   "metadata": {
    "id": "Zl8dBiTlMB5m"
   },
   "source": [
    "#### Adding 'brand' attribute as a seperate feature"
   ]
  },
  {
   "cell_type": "code",
   "execution_count": 6,
   "metadata": {
    "id": "rvWF9u-fc3Ug"
   },
   "outputs": [],
   "source": [
    "def merge_brand(df):\n",
    "    product_uids = df['product_uid'].values\n",
    "    temp = attr_df.loc[attr_df['product_uid'].isin(product_uids)]  \n",
    "    brands = temp[temp['name']=='MFG Brand Name']\n",
    "    brands_temp = brands[['product_uid','value']]\n",
    "    df = pd.merge(df, brands_temp, on='product_uid', how='left').set_index(df.index)\n",
    "    df.rename(columns = {'value':'brand'}, inplace = True) \n",
    "    return df"
   ]
  },
  {
   "cell_type": "code",
   "execution_count": 7,
   "metadata": {
    "id": "-UV4in2JduQo"
   },
   "outputs": [],
   "source": [
    "data = merge_brand(data)"
   ]
  },
  {
   "cell_type": "markdown",
   "metadata": {
    "id": "RzrS4jqHXpzt"
   },
   "source": [
    "#### Adding description to the training data "
   ]
  },
  {
   "cell_type": "code",
   "execution_count": 8,
   "metadata": {
    "id": "cS2-oTtJeC8S"
   },
   "outputs": [],
   "source": [
    "desc_df = pd.read_csv('product_descriptions.csv', encoding='iso-8859-1')\n",
    "\n",
    "def merge_description(df):\n",
    "    df = pd.merge(df, desc_df, on='product_uid', how='left').set_index(df.index)\n",
    "    #an extra preprocessing step is performed to seperate the concatenated words in the description. \n",
    "    df['product_description'] = df['product_description'].apply(lambda x: ' '.join(re.findall(r'[A-Z]?[^A-Z\\s]+|[A-Z]+', x)))\n",
    "    return df"
   ]
  },
  {
   "cell_type": "code",
   "execution_count": 9,
   "metadata": {
    "id": "O6QRC45wkPEZ"
   },
   "outputs": [],
   "source": [
    "data = merge_description(data)"
   ]
  },
  {
   "cell_type": "code",
   "execution_count": 10,
   "metadata": {},
   "outputs": [
    {
     "data": {
      "text/html": [
       "<div>\n",
       "<style scoped>\n",
       "    .dataframe tbody tr th:only-of-type {\n",
       "        vertical-align: middle;\n",
       "    }\n",
       "\n",
       "    .dataframe tbody tr th {\n",
       "        vertical-align: top;\n",
       "    }\n",
       "\n",
       "    .dataframe thead th {\n",
       "        text-align: right;\n",
       "    }\n",
       "</style>\n",
       "<table border=\"1\" class=\"dataframe\">\n",
       "  <thead>\n",
       "    <tr style=\"text-align: right;\">\n",
       "      <th></th>\n",
       "      <th>id</th>\n",
       "      <th>product_uid</th>\n",
       "      <th>product_title</th>\n",
       "      <th>search_term</th>\n",
       "      <th>relevance</th>\n",
       "      <th>combined_attr</th>\n",
       "      <th>brand</th>\n",
       "      <th>product_description</th>\n",
       "    </tr>\n",
       "  </thead>\n",
       "  <tbody>\n",
       "    <tr>\n",
       "      <th>0</th>\n",
       "      <td>2</td>\n",
       "      <td>100001</td>\n",
       "      <td>Simpson Strong-Tie 12-Gauge Angle</td>\n",
       "      <td>angle bracket</td>\n",
       "      <td>3.0</td>\n",
       "      <td>Bullet01 Versatile connector for various 90Â° ...</td>\n",
       "      <td>Simpson Strong-Tie</td>\n",
       "      <td>Not only do angles make joints stronger, they ...</td>\n",
       "    </tr>\n",
       "    <tr>\n",
       "      <th>1</th>\n",
       "      <td>3</td>\n",
       "      <td>100001</td>\n",
       "      <td>Simpson Strong-Tie 12-Gauge Angle</td>\n",
       "      <td>l bracket</td>\n",
       "      <td>2.5</td>\n",
       "      <td>Bullet01 Versatile connector for various 90Â° ...</td>\n",
       "      <td>Simpson Strong-Tie</td>\n",
       "      <td>Not only do angles make joints stronger, they ...</td>\n",
       "    </tr>\n",
       "    <tr>\n",
       "      <th>2</th>\n",
       "      <td>9</td>\n",
       "      <td>100002</td>\n",
       "      <td>BEHR Premium Textured DeckOver 1-gal. #SC-141 ...</td>\n",
       "      <td>deck over</td>\n",
       "      <td>3.0</td>\n",
       "      <td>Application Method Brush,Roller,Spray Assemble...</td>\n",
       "      <td>BEHR Premium Textured DeckOver</td>\n",
       "      <td>BEHR Premium Textured DECKOVER is an innovativ...</td>\n",
       "    </tr>\n",
       "  </tbody>\n",
       "</table>\n",
       "</div>"
      ],
      "text/plain": [
       "   id  product_uid                                      product_title  \\\n",
       "0   2       100001                  Simpson Strong-Tie 12-Gauge Angle   \n",
       "1   3       100001                  Simpson Strong-Tie 12-Gauge Angle   \n",
       "2   9       100002  BEHR Premium Textured DeckOver 1-gal. #SC-141 ...   \n",
       "\n",
       "     search_term  relevance  \\\n",
       "0  angle bracket        3.0   \n",
       "1      l bracket        2.5   \n",
       "2      deck over        3.0   \n",
       "\n",
       "                                       combined_attr  \\\n",
       "0  Bullet01 Versatile connector for various 90Â° ...   \n",
       "1  Bullet01 Versatile connector for various 90Â° ...   \n",
       "2  Application Method Brush,Roller,Spray Assemble...   \n",
       "\n",
       "                            brand  \\\n",
       "0              Simpson Strong-Tie   \n",
       "1              Simpson Strong-Tie   \n",
       "2  BEHR Premium Textured DeckOver   \n",
       "\n",
       "                                 product_description  \n",
       "0  Not only do angles make joints stronger, they ...  \n",
       "1  Not only do angles make joints stronger, they ...  \n",
       "2  BEHR Premium Textured DECKOVER is an innovativ...  "
      ]
     },
     "execution_count": 10,
     "metadata": {},
     "output_type": "execute_result"
    }
   ],
   "source": [
    "data.head(3)"
   ]
  },
  {
   "cell_type": "markdown",
   "metadata": {
    "id": "QGHrvyZqrkqp"
   },
   "source": [
    "### Filling Null Values"
   ]
  },
  {
   "cell_type": "markdown",
   "metadata": {
    "id": "GWY5c7QKh61P"
   },
   "source": [
    "**Brand**"
   ]
  },
  {
   "cell_type": "code",
   "execution_count": 11,
   "metadata": {
    "id": "yygKa_p0YbDs"
   },
   "outputs": [],
   "source": [
    "data.drop('id',inplace=True, axis=1)"
   ]
  },
  {
   "cell_type": "code",
   "execution_count": 12,
   "metadata": {
    "colab": {
     "base_uri": "https://localhost:8080/"
    },
    "executionInfo": {
     "elapsed": 425,
     "status": "ok",
     "timestamp": 1623051259861,
     "user": {
      "displayName": "Kriz Moses",
      "photoUrl": "https://lh3.googleusercontent.com/a-/AOh14GjKBNCwUDTthTPvGUZCLjw9vO9n5ddvIshwxW6L=s64",
      "userId": "11504316763430471705"
     },
     "user_tz": -330
    },
    "id": "WBNz1stwgY7q",
    "outputId": "09f8861e-0fb0-4867-c3cc-91dca0ea8d4a"
   },
   "outputs": [
    {
     "data": {
      "text/plain": [
       "3142"
      ]
     },
     "execution_count": 12,
     "metadata": {},
     "output_type": "execute_result"
    }
   ],
   "source": [
    "unique_brands = np.unique(data['brand'].dropna().values)\n",
    "len(unique_brands)"
   ]
  },
  {
   "cell_type": "code",
   "execution_count": 13,
   "metadata": {
    "id": "BKu2nsebgEzD"
   },
   "outputs": [],
   "source": [
    "def first_n(n, sent):\n",
    "    if n > len(sent.split()):\n",
    "        return 'error101'\n",
    "    return ' '.join(sent.split()[:n])\n",
    "\n",
    "def fillna_brand(data, unique_brnds):\n",
    "    null_df = data[data['brand'].isnull()].copy()\n",
    "    notnull_df = data.dropna()\n",
    "\n",
    "    for i, row in null_df.iterrows():\n",
    "        title = row['product_title']\n",
    "    if first_n(4, title) in unique_brnds:\n",
    "        null_df.loc[i, 'brand'] = first_n(4, title)\n",
    "    elif first_n(3, title) in unique_brnds:\n",
    "        null_df.loc[i, 'brand'] = first_n(3, title)\n",
    "    elif first_n(2, title) in unique_brnds:\n",
    "        null_df.loc[i,'brand'] = first_n(2, title)\n",
    "    else:\n",
    "        null_df.loc[i, 'brand'] = first_n(1, title)\n",
    "\n",
    "    data.loc[null_df.index, 'brand'] = null_df['brand'].values\n",
    "    return data"
   ]
  },
  {
   "cell_type": "code",
   "execution_count": 14,
   "metadata": {
    "id": "E6j0swD8hHMV"
   },
   "outputs": [],
   "source": [
    "data = fillna_brand(data, unique_brands)"
   ]
  },
  {
   "cell_type": "markdown",
   "metadata": {
    "id": "OSptaaHFyTdV"
   },
   "source": [
    "**Attributes**"
   ]
  },
  {
   "cell_type": "markdown",
   "metadata": {
    "id": "ojnfrHXIoR_o"
   },
   "source": [
    "* description data has no null values so we can always fill the attributes null values with the description ones."
   ]
  },
  {
   "cell_type": "code",
   "execution_count": 15,
   "metadata": {
    "id": "S7r44qQiiBfn"
   },
   "outputs": [],
   "source": [
    "def fillna_attributes(data):\n",
    "    null_df = data[data['combined_attr'].isnull()].copy()\n",
    "    null_df['combined_attr'] = null_df['product_description'].copy()\n",
    "    data.loc[null_df.index, 'combined_attr'] = null_df['combined_attr'].values\n",
    "    return data"
   ]
  },
  {
   "cell_type": "code",
   "execution_count": 16,
   "metadata": {
    "id": "A8JUAxbfiR0x"
   },
   "outputs": [],
   "source": [
    "data = fillna_attributes(data)"
   ]
  },
  {
   "cell_type": "markdown",
   "metadata": {
    "id": "uXr2hhXJifJG"
   },
   "source": [
    "**Filling any other null values**"
   ]
  },
  {
   "cell_type": "code",
   "execution_count": 17,
   "metadata": {
    "id": "vz93X7sPnsul"
   },
   "outputs": [],
   "source": [
    "data = data.fillna('')"
   ]
  },
  {
   "cell_type": "markdown",
   "metadata": {
    "id": "NhSPa_twIZUp"
   },
   "source": [
    "### Basic Preprocessing "
   ]
  },
  {
   "cell_type": "code",
   "execution_count": 18,
   "metadata": {
    "id": "bbz6kwKAyp7F"
   },
   "outputs": [],
   "source": [
    "def standardize_units(text):\n",
    "    text = \" \" + text + \" \"\n",
    "    text = re.sub('( gal | gals | galon )',' gallon ',text)\n",
    "    text = re.sub('( ft | fts | feets | foot | foots )',' feet ',text)\n",
    "    text = re.sub('( squares | sq )',' square ',text)\n",
    "    text = re.sub('( lb | lbs | pounds )',' pound ',text)\n",
    "    text = re.sub('( oz | ozs | ounces | ounc )',' ounce ',text)\n",
    "    text = re.sub('( yds | yd | yards )',' yard ',text)\n",
    "    return text\n",
    "\n",
    "def preprocessing(sent):\n",
    "    sent = sent.replace('in.', ' inch ') #If we dont to this then 'in.' will be turned to 'in' in the next step\n",
    "    words = re.split(r'\\W+', sent)\n",
    "    words = [word.lower() for word in words]\n",
    "    res = re.sub(\"[A-Za-z]+\", lambda ele: \" \" + ele[0] + \" \", ' '.join(words)) #add space between number and alphabets in a string\n",
    "    cleaned = standardize_units(res) \n",
    "    cleaned = ' '.join(cleaned.split()) #removing extra whitespaces\n",
    "    return cleaned\n",
    "\n",
    "def preprocessing_search(sent):\n",
    "    sent = sent.replace('in.', ' inch ')\n",
    "    words = re.split(r'\\W+', sent)\n",
    "    words = [word.lower() for word in words]\n",
    "    res = re.sub(\"[A-Za-z]+\", lambda ele: \" \" + ele[0] + \" \", ' '.join(words)) #add space between number and alphabets in a string\n",
    "    res = standardize_units(res) \n",
    "    res = res.replace(' in ', ' inch ') #in search_terms 'in' is used more for 'inch' than as a preposition hence this step shouldn't hurt\n",
    "    cleaned = ' '.join(res.split()) #removing extra whitespaces\n",
    "    return cleaned"
   ]
  },
  {
   "cell_type": "code",
   "execution_count": 19,
   "metadata": {
    "id": "mPlVrrfzQ67H"
   },
   "outputs": [],
   "source": [
    "data['cleaned_title'] = data['product_title'].apply(lambda x : preprocessing(x))\n",
    "data['cleaned_brand'] = data['brand'].apply(lambda x : preprocessing(x))\n",
    "data['cleaned_description'] = data['product_description'].apply(lambda x : preprocessing(x))\n",
    "data['cleaned_attributes'] = data['combined_attr'].apply(lambda x : preprocessing(x))\n",
    "data['cleaned_search'] = data['search_term'].apply(lambda x : preprocessing_search(x))"
   ]
  },
  {
   "cell_type": "markdown",
   "metadata": {
    "id": "gOV-OFv5Q6jL"
   },
   "source": [
    "### Correcting Search Term"
   ]
  },
  {
   "cell_type": "code",
   "execution_count": 20,
   "metadata": {
    "id": "yc6bvwdttemG"
   },
   "outputs": [],
   "source": [
    "corpus = data['cleaned_title'] + \" \"  + data['cleaned_brand'] + \" \" + data['cleaned_description'] + \" \" + data['cleaned_attributes'] \n",
    "\n",
    "#removing stopwords\n",
    "stp_wrds = set(stopwords.words('english'))\n",
    "def stop_word_removal(sent):\n",
    "    words = sent.split()\n",
    "    words = [w for w in words if not w in stp_wrds]\n",
    "    return ' '.join(words)\n",
    "\n",
    "corpus = corpus.apply(lambda x : stop_word_removal(x)) "
   ]
  },
  {
   "cell_type": "code",
   "execution_count": 21,
   "metadata": {
    "id": "GLAs86meZMro"
   },
   "outputs": [],
   "source": [
    "#http://norvig.com/spell-correct.html\n",
    "def words(text): return re.findall(r'\\w+', text.lower())\n",
    "WORDS = Counter(words(' '.join(corpus.tolist())))\n",
    "\n",
    "def P(word, N=sum(WORDS.values())): \n",
    "    \"Probability of `word`.\"\n",
    "    return WORDS[word] / N\n",
    "def correction(word): \n",
    "    \"Most probable spelling correction for word.\"\n",
    "    return max(candidates(word), key=P)\n",
    "def candidates(word): \n",
    "    \"Generate possible spelling corrections for word.\"\n",
    "    return (known([word]) or known(edits1(word)) or known(edits2(word)) or set([word]))\n",
    "def known(words): \n",
    "    \"The subset of `words` that appear in the dictionary of WORDS.\"\n",
    "    return set(w for w in words if w in WORDS)\n",
    "def edits1(word):\n",
    "    \"All edits that are one edit away from `word`.\"\n",
    "    letters    = 'abcdefghijklmnopqrstuvwxyz'\n",
    "    splits     = [(word[:i], word[i:])    for i in range(len(word) + 1)]\n",
    "    deletes    = [L + R[1:]               for L, R in splits if R]\n",
    "    transposes = [L + R[1] + R[0] + R[2:] for L, R in splits if len(R)>1]\n",
    "    replaces   = [L + c + R[1:]           for L, R in splits if R for c in letters]\n",
    "    inserts    = [L + c + R               for L, R in splits for c in letters]\n",
    "    return set(deletes + transposes + replaces + inserts)\n",
    "def edits2(word): \n",
    "    \"All edits that are two edits away from `word`.\"\n",
    "    return (e2 for e1 in edits1(word) for e2 in edits1(e1))\n",
    "def corrected_term(term):\n",
    "    temp = term.lower().split()\n",
    "    temp = [correction(word) for word in temp]\n",
    "    return ' '.join(temp)"
   ]
  },
  {
   "cell_type": "code",
   "execution_count": 22,
   "metadata": {
    "id": "oqy4a9tQr4Hc"
   },
   "outputs": [],
   "source": [
    "data['corrected_search'] = data['cleaned_search'].apply(lambda x: corrected_term(x))"
   ]
  },
  {
   "cell_type": "markdown",
   "metadata": {
    "id": "HPfFC5xrERlr"
   },
   "source": [
    "**cleaned_df2 with no stemming**"
   ]
  },
  {
   "cell_type": "code",
   "execution_count": 23,
   "metadata": {
    "id": "Ms4ZOVFe9v7e"
   },
   "outputs": [],
   "source": [
    "#stop word removal only - no stemming\n",
    "def futher_preprocessing_without_stem(sent):\n",
    "    sent = sent.replace('_', ' _ ')\n",
    "    words = sent.split()\n",
    "    words = [w for w in words if not w in stp_wrds]\n",
    "    return ' '.join(words)"
   ]
  },
  {
   "cell_type": "code",
   "execution_count": 26,
   "metadata": {
    "colab": {
     "base_uri": "https://localhost:8080/",
     "height": 287
    },
    "executionInfo": {
     "elapsed": 4524,
     "status": "ok",
     "timestamp": 1623048255994,
     "user": {
      "displayName": "Kriz Moses",
      "photoUrl": "https://lh3.googleusercontent.com/a-/AOh14GjKBNCwUDTthTPvGUZCLjw9vO9n5ddvIshwxW6L=s64",
      "userId": "11504316763430471705"
     },
     "user_tz": -330
    },
    "id": "HmSEO5E4DsMk",
    "outputId": "c97e74d8-0c5c-490e-d46b-7b35f1c14de5"
   },
   "outputs": [
    {
     "data": {
      "text/html": [
       "<div>\n",
       "<style scoped>\n",
       "    .dataframe tbody tr th:only-of-type {\n",
       "        vertical-align: middle;\n",
       "    }\n",
       "\n",
       "    .dataframe tbody tr th {\n",
       "        vertical-align: top;\n",
       "    }\n",
       "\n",
       "    .dataframe thead th {\n",
       "        text-align: right;\n",
       "    }\n",
       "</style>\n",
       "<table border=\"1\" class=\"dataframe\">\n",
       "  <thead>\n",
       "    <tr style=\"text-align: right;\">\n",
       "      <th></th>\n",
       "      <th>product_uid</th>\n",
       "      <th>product_title</th>\n",
       "      <th>search_term</th>\n",
       "      <th>relevance</th>\n",
       "      <th>combined_attr</th>\n",
       "      <th>brand</th>\n",
       "      <th>product_description</th>\n",
       "      <th>cleaned_title</th>\n",
       "      <th>cleaned_brand</th>\n",
       "      <th>cleaned_description</th>\n",
       "      <th>cleaned_attributes</th>\n",
       "      <th>cleaned_search</th>\n",
       "      <th>corrected_search</th>\n",
       "    </tr>\n",
       "  </thead>\n",
       "  <tbody>\n",
       "    <tr>\n",
       "      <th>0</th>\n",
       "      <td>100001</td>\n",
       "      <td>Simpson Strong-Tie 12-Gauge Angle</td>\n",
       "      <td>angle bracket</td>\n",
       "      <td>3.00</td>\n",
       "      <td>Bullet01 Versatile connector for various 90Â° ...</td>\n",
       "      <td>Simpson Strong-Tie</td>\n",
       "      <td>Not only do angles make joints stronger, they ...</td>\n",
       "      <td>simpson strong tie 12 gauge angle</td>\n",
       "      <td>simpson strong tie</td>\n",
       "      <td>angles make joints stronger also provide consi...</td>\n",
       "      <td>versatile connector various 90â connections ho...</td>\n",
       "      <td>angle bracket</td>\n",
       "      <td>angle bracket</td>\n",
       "    </tr>\n",
       "    <tr>\n",
       "      <th>1</th>\n",
       "      <td>100001</td>\n",
       "      <td>Simpson Strong-Tie 12-Gauge Angle</td>\n",
       "      <td>l bracket</td>\n",
       "      <td>2.50</td>\n",
       "      <td>Bullet01 Versatile connector for various 90Â° ...</td>\n",
       "      <td>Simpson Strong-Tie</td>\n",
       "      <td>Not only do angles make joints stronger, they ...</td>\n",
       "      <td>simpson strong tie 12 gauge angle</td>\n",
       "      <td>simpson strong tie</td>\n",
       "      <td>angles make joints stronger also provide consi...</td>\n",
       "      <td>versatile connector various 90â connections ho...</td>\n",
       "      <td>l bracket</td>\n",
       "      <td>l bracket</td>\n",
       "    </tr>\n",
       "    <tr>\n",
       "      <th>2</th>\n",
       "      <td>100002</td>\n",
       "      <td>BEHR Premium Textured DeckOver 1-gal. #SC-141 ...</td>\n",
       "      <td>deck over</td>\n",
       "      <td>3.00</td>\n",
       "      <td>Application Method Brush,Roller,Spray Assemble...</td>\n",
       "      <td>BEHR Premium Textured DeckOver</td>\n",
       "      <td>BEHR Premium Textured DECKOVER is an innovativ...</td>\n",
       "      <td>behr premium textured deckover 1 gallon sc 141...</td>\n",
       "      <td>behr premium textured deckover</td>\n",
       "      <td>behr premium textured deckover innovative soli...</td>\n",
       "      <td>application method brush roller spray assemble...</td>\n",
       "      <td>deck</td>\n",
       "      <td>deck oven</td>\n",
       "    </tr>\n",
       "    <tr>\n",
       "      <th>3</th>\n",
       "      <td>100005</td>\n",
       "      <td>Delta Vero 1-Handle Shower Only Faucet Trim Ki...</td>\n",
       "      <td>rain shower head</td>\n",
       "      <td>2.33</td>\n",
       "      <td>Bath Faucet Type Combo Tub and Shower Built-in...</td>\n",
       "      <td>Delta</td>\n",
       "      <td>Update your bathroom with the Delta Vero Singl...</td>\n",
       "      <td>delta vero 1 handle shower faucet trim kit chr...</td>\n",
       "      <td>delta</td>\n",
       "      <td>update bathroom delta vero single handle showe...</td>\n",
       "      <td>bath faucet type combo tub shower built water ...</td>\n",
       "      <td>rain shower head</td>\n",
       "      <td>rain shower head</td>\n",
       "    </tr>\n",
       "    <tr>\n",
       "      <th>4</th>\n",
       "      <td>100005</td>\n",
       "      <td>Delta Vero 1-Handle Shower Only Faucet Trim Ki...</td>\n",
       "      <td>shower only faucet</td>\n",
       "      <td>2.67</td>\n",
       "      <td>Bath Faucet Type Combo Tub and Shower Built-in...</td>\n",
       "      <td>Delta</td>\n",
       "      <td>Update your bathroom with the Delta Vero Singl...</td>\n",
       "      <td>delta vero 1 handle shower faucet trim kit chr...</td>\n",
       "      <td>delta</td>\n",
       "      <td>update bathroom delta vero single handle showe...</td>\n",
       "      <td>bath faucet type combo tub shower built water ...</td>\n",
       "      <td>shower faucet</td>\n",
       "      <td>shower oily faucet</td>\n",
       "    </tr>\n",
       "  </tbody>\n",
       "</table>\n",
       "</div>"
      ],
      "text/plain": [
       "   product_uid                                      product_title  \\\n",
       "0       100001                  Simpson Strong-Tie 12-Gauge Angle   \n",
       "1       100001                  Simpson Strong-Tie 12-Gauge Angle   \n",
       "2       100002  BEHR Premium Textured DeckOver 1-gal. #SC-141 ...   \n",
       "3       100005  Delta Vero 1-Handle Shower Only Faucet Trim Ki...   \n",
       "4       100005  Delta Vero 1-Handle Shower Only Faucet Trim Ki...   \n",
       "\n",
       "          search_term  relevance  \\\n",
       "0       angle bracket       3.00   \n",
       "1           l bracket       2.50   \n",
       "2           deck over       3.00   \n",
       "3    rain shower head       2.33   \n",
       "4  shower only faucet       2.67   \n",
       "\n",
       "                                       combined_attr  \\\n",
       "0  Bullet01 Versatile connector for various 90Â° ...   \n",
       "1  Bullet01 Versatile connector for various 90Â° ...   \n",
       "2  Application Method Brush,Roller,Spray Assemble...   \n",
       "3  Bath Faucet Type Combo Tub and Shower Built-in...   \n",
       "4  Bath Faucet Type Combo Tub and Shower Built-in...   \n",
       "\n",
       "                            brand  \\\n",
       "0              Simpson Strong-Tie   \n",
       "1              Simpson Strong-Tie   \n",
       "2  BEHR Premium Textured DeckOver   \n",
       "3                           Delta   \n",
       "4                           Delta   \n",
       "\n",
       "                                 product_description  \\\n",
       "0  Not only do angles make joints stronger, they ...   \n",
       "1  Not only do angles make joints stronger, they ...   \n",
       "2  BEHR Premium Textured DECKOVER is an innovativ...   \n",
       "3  Update your bathroom with the Delta Vero Singl...   \n",
       "4  Update your bathroom with the Delta Vero Singl...   \n",
       "\n",
       "                                       cleaned_title  \\\n",
       "0                  simpson strong tie 12 gauge angle   \n",
       "1                  simpson strong tie 12 gauge angle   \n",
       "2  behr premium textured deckover 1 gallon sc 141...   \n",
       "3  delta vero 1 handle shower faucet trim kit chr...   \n",
       "4  delta vero 1 handle shower faucet trim kit chr...   \n",
       "\n",
       "                    cleaned_brand  \\\n",
       "0              simpson strong tie   \n",
       "1              simpson strong tie   \n",
       "2  behr premium textured deckover   \n",
       "3                           delta   \n",
       "4                           delta   \n",
       "\n",
       "                                 cleaned_description  \\\n",
       "0  angles make joints stronger also provide consi...   \n",
       "1  angles make joints stronger also provide consi...   \n",
       "2  behr premium textured deckover innovative soli...   \n",
       "3  update bathroom delta vero single handle showe...   \n",
       "4  update bathroom delta vero single handle showe...   \n",
       "\n",
       "                                  cleaned_attributes    cleaned_search  \\\n",
       "0  versatile connector various 90â connections ho...     angle bracket   \n",
       "1  versatile connector various 90â connections ho...         l bracket   \n",
       "2  application method brush roller spray assemble...              deck   \n",
       "3  bath faucet type combo tub shower built water ...  rain shower head   \n",
       "4  bath faucet type combo tub shower built water ...     shower faucet   \n",
       "\n",
       "     corrected_search  \n",
       "0       angle bracket  \n",
       "1           l bracket  \n",
       "2           deck oven  \n",
       "3    rain shower head  \n",
       "4  shower oily faucet  "
      ]
     },
     "execution_count": 26,
     "metadata": {},
     "output_type": "execute_result"
    }
   ],
   "source": [
    "data['cleaned_title'] = data['cleaned_title'].apply(lambda x : futher_preprocessing_without_stem(x)) \n",
    "data['cleaned_brand'] = data['cleaned_brand'].apply(lambda x : futher_preprocessing_without_stem(x)) \n",
    "data['cleaned_description'] = data['cleaned_description'].apply(lambda x : futher_preprocessing_without_stem(x))\n",
    "data['cleaned_attributes'] = data['cleaned_attributes'].apply(lambda x : futher_preprocessing_without_stem(x)) \n",
    "data['cleaned_search'] = data['cleaned_search'].apply(lambda x : futher_preprocessing_without_stem(x)) \n",
    "data['corrected_search'] = data['corrected_search'].apply(lambda x : futher_preprocessing_without_stem(x))\n",
    "data['cleaned_attributes'] = data['cleaned_attributes'].apply(lambda x: re.sub('bullet \\d\\d ', '', x))\n",
    "data['cleaned_description'] = data['cleaned_description'].apply(lambda x: re.sub('bullet \\d\\d ', '', x))\n",
    "data.head()"
   ]
  },
  {
   "cell_type": "code",
   "execution_count": 139,
   "metadata": {},
   "outputs": [],
   "source": [
    "data.to_pickle('./cleaned_train_data.pkl')"
   ]
  },
  {
   "cell_type": "code",
   "execution_count": 29,
   "metadata": {
    "id": "dVrYdNZ-JT5r"
   },
   "outputs": [],
   "source": []
  }
 ],
 "metadata": {
  "colab": {
   "authorship_tag": "ABX9TyNey61ifl9yLKRhaErX3Qpd",
   "collapsed_sections": [],
   "mount_file_id": "1cP58ts8BqbYprsmzs6AmfKGOikvY3naz",
   "name": "cleaning.ipynb",
   "provenance": []
  },
  "kernelspec": {
   "display_name": "m1",
   "language": "python",
   "name": "m1"
  },
  "language_info": {
   "codemirror_mode": {
    "name": "ipython",
    "version": 3
   },
   "file_extension": ".py",
   "mimetype": "text/x-python",
   "name": "python",
   "nbconvert_exporter": "python",
   "pygments_lexer": "ipython3",
   "version": "3.8.13"
  }
 },
 "nbformat": 4,
 "nbformat_minor": 4
}
